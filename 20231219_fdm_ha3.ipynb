{
 "cells": [
  {
   "cell_type": "code",
   "execution_count": 1,
   "id": "104b06f2",
   "metadata": {
    "autoscroll": false,
    "collapsed": false,
    "ein.hycell": false,
    "ein.tags": "worksheet-0",
    "slideshow": {
     "slide_type": "-"
    }
   },
   "outputs": [],
   "source": [
    "import urllib.request\n",
    "import pandas as pd\n",
    "import re\n"
   ]
  },
  {
   "cell_type": "markdown",
   "id": "b00cbfe5",
   "metadata": {
    "ein.tags": "worksheet-0",
    "slideshow": {
     "slide_type": "-"
    }
   },
   "source": [
    "# Aufgabe 3\n",
    "\n",
    "## Merging\n",
    "\n",
    "Führe einen \"right\", \"inner\" und einen \"outer\" Merge durch und schaue Dir die Ergebnisse dieser an."
   ]
  },
  {
   "cell_type": "code",
   "execution_count": 2,
   "id": "7ea99cde",
   "metadata": {
    "autoscroll": false,
    "collapsed": false,
    "ein.hycell": false,
    "ein.tags": "worksheet-0",
    "slideshow": {
     "slide_type": "-"
    }
   },
   "outputs": [
    {
     "data": {
      "text/html": [
       "<div>\n<style scoped>\n    .dataframe tbody tr th:only-of-type {\n        vertical-align: middle;\n    }\n\n    .dataframe tbody tr th {\n        vertical-align: top;\n    }\n\n    .dataframe thead th {\n        text-align: right;\n    }\n</style>\n<table border=\"1\" class=\"dataframe\">\n  <thead>\n    <tr style=\"text-align: right;\">\n      <th></th>\n      <th>DOI</th>\n      <th>first_author</th>\n      <th>journal</th>\n    </tr>\n  </thead>\n  <tbody>\n    <tr>\n      <th>0</th>\n      <td>10.1371/journal.pcbi.1004668</td>\n      <td>Blischak</td>\n      <td>PLoS Comput Biol</td>\n    </tr>\n    <tr>\n      <th>1</th>\n      <td>10.21105/joss.01035</td>\n      <td>Sparks</td>\n      <td>JOSS</td>\n    </tr>\n    <tr>\n      <th>2</th>\n      <td>10.12688/f1000research.18866.2</td>\n      <td>Thang</td>\n      <td>F1000Res</td>\n    </tr>\n    <tr>\n      <th>3</th>\n      <td>10.1038/s41598-019-52881-4</td>\n      <td>NaN</td>\n      <td>Sci Rep</td>\n    </tr>\n    <tr>\n      <th>4</th>\n      <td>10.1186/s12859-019-3171-0</td>\n      <td>Chen</td>\n      <td>BMC Bioinformatics</td>\n    </tr>\n  </tbody>\n</table>\n</div>"
      ],
      "text/plain": [
       "                              DOI first_author             journal\n0    10.1371/journal.pcbi.1004668     Blischak    PLoS Comput Biol\n1             10.21105/joss.01035       Sparks                JOSS\n2  10.12688/f1000research.18866.2        Thang            F1000Res\n3      10.1038/s41598-019-52881-4          NaN             Sci Rep\n4       10.1186/s12859-019-3171-0         Chen  BMC Bioinformatics"
      ]
     },
     "execution_count": 2,
     "metadata": {},
     "output_type": "execute_result"
    }
   ],
   "source": [
    "\n",
    "doiJ = pd.DataFrame({\n",
    "    \"DOI\": [\"10.1371/journal.pcbi.1004668\",\n",
    "            \"10.21105/joss.01035\",\n",
    "            \"10.12688/f1000research.18866.2\",\n",
    "            \"10.1038/s41598-019-52881-4\",\n",
    "            \"10.1186/s12859-019-3171-0\"],\n",
    "    \"journal\": [\"PLoS Comput Biol\",\n",
    "                \"JOSS\",\n",
    "                \"F1000Res\",\n",
    "                \"Sci Rep\",\n",
    "                \"BMC Bioinformatics\"]\n",
    "})\n",
    "\n",
    "doiFA = pd.DataFrame({\n",
    "    \"DOI\": [\"10.1371/journal.pcbi.1004668\",\n",
    "            \"10.21105/joss.01035\",\n",
    "            \"10.21105/joss.01006\",\n",
    "            \"10.12688/f1000research.18866.2\",\n",
    "            \"10.1186/s12859-019-3171-0\"],\n",
    "    \"first_author\": [\"Blischak\",\n",
    "                     \"Sparks\",\n",
    "                     \"Granger\",\n",
    "                     \"Thang\",\n",
    "                     \"Chen\"]\n",
    "})\n",
    "\n",
    "\n",
    "pd.merge(doiFA, doiJ, how = 'right', on = 'DOI')"
   ]
  },
  {
   "cell_type": "code",
   "execution_count": 3,
   "id": "7d5ccec8",
   "metadata": {
    "autoscroll": false,
    "collapsed": false,
    "ein.hycell": false,
    "ein.tags": "worksheet-0",
    "slideshow": {
     "slide_type": "-"
    }
   },
   "outputs": [
    {
     "data": {
      "text/html": [
       "<div>\n<style scoped>\n    .dataframe tbody tr th:only-of-type {\n        vertical-align: middle;\n    }\n\n    .dataframe tbody tr th {\n        vertical-align: top;\n    }\n\n    .dataframe thead th {\n        text-align: right;\n    }\n</style>\n<table border=\"1\" class=\"dataframe\">\n  <thead>\n    <tr style=\"text-align: right;\">\n      <th></th>\n      <th>DOI</th>\n      <th>journal</th>\n      <th>first_author</th>\n    </tr>\n  </thead>\n  <tbody>\n    <tr>\n      <th>0</th>\n      <td>10.1371/journal.pcbi.1004668</td>\n      <td>PLoS Comput Biol</td>\n      <td>Blischak</td>\n    </tr>\n    <tr>\n      <th>1</th>\n      <td>10.21105/joss.01035</td>\n      <td>JOSS</td>\n      <td>Sparks</td>\n    </tr>\n    <tr>\n      <th>2</th>\n      <td>10.21105/joss.01006</td>\n      <td>NaN</td>\n      <td>Granger</td>\n    </tr>\n    <tr>\n      <th>3</th>\n      <td>10.12688/f1000research.18866.2</td>\n      <td>F1000Res</td>\n      <td>Thang</td>\n    </tr>\n    <tr>\n      <th>4</th>\n      <td>10.1186/s12859-019-3171-0</td>\n      <td>BMC Bioinformatics</td>\n      <td>Chen</td>\n    </tr>\n  </tbody>\n</table>\n</div>"
      ],
      "text/plain": [
       "                              DOI             journal first_author\n0    10.1371/journal.pcbi.1004668    PLoS Comput Biol     Blischak\n1             10.21105/joss.01035                JOSS       Sparks\n2             10.21105/joss.01006                 NaN      Granger\n3  10.12688/f1000research.18866.2            F1000Res        Thang\n4       10.1186/s12859-019-3171-0  BMC Bioinformatics         Chen"
      ]
     },
     "execution_count": 3,
     "metadata": {},
     "output_type": "execute_result"
    }
   ],
   "source": [
    "pd.merge(doiJ, doiFA, how = 'right', on = 'DOI')"
   ]
  },
  {
   "cell_type": "code",
   "execution_count": 4,
   "id": "fe54ab19",
   "metadata": {
    "autoscroll": false,
    "collapsed": false,
    "ein.hycell": false,
    "ein.tags": "worksheet-0",
    "slideshow": {
     "slide_type": "-"
    }
   },
   "outputs": [
    {
     "data": {
      "text/html": [
       "<div>\n<style scoped>\n    .dataframe tbody tr th:only-of-type {\n        vertical-align: middle;\n    }\n\n    .dataframe tbody tr th {\n        vertical-align: top;\n    }\n\n    .dataframe thead th {\n        text-align: right;\n    }\n</style>\n<table border=\"1\" class=\"dataframe\">\n  <thead>\n    <tr style=\"text-align: right;\">\n      <th></th>\n      <th>DOI</th>\n      <th>journal</th>\n      <th>first_author</th>\n    </tr>\n  </thead>\n  <tbody>\n    <tr>\n      <th>0</th>\n      <td>10.1371/journal.pcbi.1004668</td>\n      <td>PLoS Comput Biol</td>\n      <td>Blischak</td>\n    </tr>\n    <tr>\n      <th>1</th>\n      <td>10.21105/joss.01035</td>\n      <td>JOSS</td>\n      <td>Sparks</td>\n    </tr>\n    <tr>\n      <th>2</th>\n      <td>10.12688/f1000research.18866.2</td>\n      <td>F1000Res</td>\n      <td>Thang</td>\n    </tr>\n    <tr>\n      <th>3</th>\n      <td>10.1186/s12859-019-3171-0</td>\n      <td>BMC Bioinformatics</td>\n      <td>Chen</td>\n    </tr>\n  </tbody>\n</table>\n</div>"
      ],
      "text/plain": [
       "                              DOI             journal first_author\n0    10.1371/journal.pcbi.1004668    PLoS Comput Biol     Blischak\n1             10.21105/joss.01035                JOSS       Sparks\n2  10.12688/f1000research.18866.2            F1000Res        Thang\n3       10.1186/s12859-019-3171-0  BMC Bioinformatics         Chen"
      ]
     },
     "execution_count": 4,
     "metadata": {},
     "output_type": "execute_result"
    }
   ],
   "source": [
    "pd.merge(doiJ, doiFA, how = 'inner')"
   ]
  },
  {
   "cell_type": "code",
   "execution_count": 5,
   "id": "79fd1d06",
   "metadata": {
    "autoscroll": false,
    "collapsed": false,
    "ein.hycell": false,
    "ein.tags": "worksheet-0",
    "slideshow": {
     "slide_type": "-"
    }
   },
   "outputs": [
    {
     "data": {
      "text/html": [
       "<div>\n<style scoped>\n    .dataframe tbody tr th:only-of-type {\n        vertical-align: middle;\n    }\n\n    .dataframe tbody tr th {\n        vertical-align: top;\n    }\n\n    .dataframe thead th {\n        text-align: right;\n    }\n</style>\n<table border=\"1\" class=\"dataframe\">\n  <thead>\n    <tr style=\"text-align: right;\">\n      <th></th>\n      <th>DOI</th>\n      <th>journal</th>\n      <th>first_author</th>\n    </tr>\n  </thead>\n  <tbody>\n    <tr>\n      <th>0</th>\n      <td>10.1371/journal.pcbi.1004668</td>\n      <td>PLoS Comput Biol</td>\n      <td>Blischak</td>\n    </tr>\n    <tr>\n      <th>1</th>\n      <td>10.21105/joss.01035</td>\n      <td>JOSS</td>\n      <td>Sparks</td>\n    </tr>\n    <tr>\n      <th>2</th>\n      <td>10.12688/f1000research.18866.2</td>\n      <td>F1000Res</td>\n      <td>Thang</td>\n    </tr>\n    <tr>\n      <th>3</th>\n      <td>10.1038/s41598-019-52881-4</td>\n      <td>Sci Rep</td>\n      <td>NaN</td>\n    </tr>\n    <tr>\n      <th>4</th>\n      <td>10.1186/s12859-019-3171-0</td>\n      <td>BMC Bioinformatics</td>\n      <td>Chen</td>\n    </tr>\n    <tr>\n      <th>5</th>\n      <td>10.21105/joss.01006</td>\n      <td>NaN</td>\n      <td>Granger</td>\n    </tr>\n  </tbody>\n</table>\n</div>"
      ],
      "text/plain": [
       "                              DOI             journal first_author\n0    10.1371/journal.pcbi.1004668    PLoS Comput Biol     Blischak\n1             10.21105/joss.01035                JOSS       Sparks\n2  10.12688/f1000research.18866.2            F1000Res        Thang\n3      10.1038/s41598-019-52881-4             Sci Rep          NaN\n4       10.1186/s12859-019-3171-0  BMC Bioinformatics         Chen\n5             10.21105/joss.01006                 NaN      Granger"
      ]
     },
     "execution_count": 5,
     "metadata": {},
     "output_type": "execute_result"
    }
   ],
   "source": [
    "pd.merge(doiJ, doiFA, how = 'outer')"
   ]
  },
  {
   "cell_type": "markdown",
   "id": "995007eb",
   "metadata": {
    "ein.tags": "worksheet-0",
    "slideshow": {
     "slide_type": "-"
    }
   },
   "source": [
    "\n",
    "- `right`: die Anordnung der Spalten des Ergebnisdataframes ist abhängig von der Reihenfolge im `merge`-Befehl; Einträge, die nicht zugeordnet werden können, werden mit `NaN` aufgefüllt\n",
    "- `inner`: nur Zeilen, die in beiden Datensätzen eine Entsprechung haben, werden ausgegeben\n",
    "- `outer`: alle Zeilen werden ausgegeben, entstehende Leerstellen werden mit `NaN` gefüllt"
   ]
  },
  {
   "cell_type": "markdown",
   "id": "533875f0",
   "metadata": {
    "ein.tags": "worksheet-0",
    "slideshow": {
     "slide_type": "-"
    }
   },
   "source": [
    "\n",
    "## Seattle Library\n",
    "\n",
    "Erstellt ein neues Jupyter Notebook und überlegt euch für die Aufgabe **drei** Fragen, die ihr mittels einer Analyse mit Pandas auf die Daten anwenden könnt. Visualisiert eure Analysen durch tabellarische Form oder ein Histogramm.\n",
    "\n",
    "- [x] neues Jupy\n",
    "- [x] 1. Frage: In welchem Jahr (insofern vorhanden) erschien das erste digitale Medium in der Sammlung?\n",
    "- [x] 2. Frage: Wieviele Einträge in dem Datensatz sind in puncto Ausleihhäufigkeit als statistische Ausreißer zu betrachten? Welche sind keine?\n",
    "- [x] 3. Frage: Welche sind die Top10 der längsten Titel?\n",
    "- [ ] 4. Frage: Publikationsjahr der ausgeliehenen Medien -> Visualisierung?!\n"
   ]
  },
  {
   "cell_type": "code",
   "execution_count": 6,
   "id": "19b9ff4f",
   "metadata": {
    "autoscroll": false,
    "collapsed": false,
    "ein.hycell": false,
    "ein.tags": "worksheet-0",
    "slideshow": {
     "slide_type": "-"
    }
   },
   "outputs": [],
   "source": [
    "url = \"https://data.seattle.gov/resource/tmmm-ytt6.csv?$where=checkoutyear=2018&$limit=10000\"\n",
    "co = \"checkout.csv\"\n",
    "urllib.request.urlretrieve(url, co)\n",
    "codf = pd.read_csv(co)\n",
    "#codf"
   ]
  },
  {
   "cell_type": "code",
   "execution_count": 7,
   "id": "7e47ab2d",
   "metadata": {
    "autoscroll": false,
    "collapsed": false,
    "ein.hycell": false,
    "ein.tags": "worksheet-0",
    "slideshow": {
     "slide_type": "-"
    }
   },
   "outputs": [],
   "source": [
    "sub1 = codf.loc[codf['usageclass'] == 'Digital']\n",
    "answerQ1 = sub1['publicationyear'].dropna().min()"
   ]
  },
  {
   "cell_type": "code",
   "execution_count": 8,
   "id": "785d14ab",
   "metadata": {
    "autoscroll": false,
    "collapsed": false,
    "ein.hycell": false,
    "ein.tags": "worksheet-0",
    "slideshow": {
     "slide_type": "-"
    }
   },
   "outputs": [],
   "source": [
    "codf\n",
    "a = codf['checkouts'].describe() #hist(bins = 100)\n"
   ]
  },
  {
   "cell_type": "code",
   "execution_count": 9,
   "id": "ffe84826",
   "metadata": {
    "autoscroll": false,
    "collapsed": false,
    "ein.hycell": false,
    "ein.tags": "worksheet-0",
    "slideshow": {
     "slide_type": "-"
    }
   },
   "outputs": [
    {
     "data": {
      "text/html": [
       "<div>\n<style scoped>\n    .dataframe tbody tr th:only-of-type {\n        vertical-align: middle;\n    }\n\n    .dataframe tbody tr th {\n        vertical-align: top;\n    }\n\n    .dataframe thead th {\n        text-align: right;\n    }\n</style>\n<table border=\"1\" class=\"dataframe\">\n  <thead>\n    <tr style=\"text-align: right;\">\n      <th></th>\n      <th>usageclass</th>\n      <th>checkouttype</th>\n      <th>materialtype</th>\n      <th>checkoutyear</th>\n      <th>checkoutmonth</th>\n      <th>checkouts</th>\n      <th>title</th>\n      <th>isbn</th>\n      <th>creator</th>\n      <th>subjects</th>\n      <th>publisher</th>\n      <th>publicationyear</th>\n    </tr>\n  </thead>\n  <tbody>\n    <tr>\n      <th>0</th>\n      <td>Digital</td>\n      <td>OverDrive</td>\n      <td>EBOOK</td>\n      <td>2018</td>\n      <td>1</td>\n      <td>22</td>\n      <td>Enemy of the State</td>\n      <td>NaN</td>\n      <td>Vince Flynn</td>\n      <td>Fiction, Literature, Thriller</td>\n      <td>Simon &amp; Schuster, Inc.</td>\n      <td>2017</td>\n    </tr>\n    <tr>\n      <th>1</th>\n      <td>Digital</td>\n      <td>Hoopla</td>\n      <td>TELEVISION</td>\n      <td>2018</td>\n      <td>1</td>\n      <td>1</td>\n      <td>Newspaper Mom / Cucumber in Rio / Donut Raffle</td>\n      <td>NaN</td>\n      <td>NaN</td>\n      <td>Children's</td>\n      <td>DHX Media</td>\n      <td>NaN</td>\n    </tr>\n    <tr>\n      <th>2</th>\n      <td>Physical</td>\n      <td>Horizon</td>\n      <td>SOUNDDISC</td>\n      <td>2018</td>\n      <td>1</td>\n      <td>1</td>\n      <td>Mono / the Mavericks.</td>\n      <td>NaN</td>\n      <td>Mavericks (Musical group)</td>\n      <td>Country music 2011 2020</td>\n      <td>Valory,</td>\n      <td>[2015]</td>\n    </tr>\n    <tr>\n      <th>3</th>\n      <td>Digital</td>\n      <td>OverDrive</td>\n      <td>EBOOK</td>\n      <td>2018</td>\n      <td>1</td>\n      <td>2</td>\n      <td>Anna Karenina</td>\n      <td>NaN</td>\n      <td>Leo Tolstoy</td>\n      <td>Classic Literature, Fiction, Literature</td>\n      <td>Penguin Group (USA), Inc.</td>\n      <td>2009</td>\n    </tr>\n    <tr>\n      <th>4</th>\n      <td>Digital</td>\n      <td>OverDrive</td>\n      <td>EBOOK</td>\n      <td>2018</td>\n      <td>1</td>\n      <td>1</td>\n      <td>Dragon: Vlad Series, Book 8</td>\n      <td>NaN</td>\n      <td>Steven Brust</td>\n      <td>Fantasy, Fiction</td>\n      <td>Macmillan Publishers</td>\n      <td>2015</td>\n    </tr>\n    <tr>\n      <th>...</th>\n      <td>...</td>\n      <td>...</td>\n      <td>...</td>\n      <td>...</td>\n      <td>...</td>\n      <td>...</td>\n      <td>...</td>\n      <td>...</td>\n      <td>...</td>\n      <td>...</td>\n      <td>...</td>\n      <td>...</td>\n    </tr>\n    <tr>\n      <th>9995</th>\n      <td>Digital</td>\n      <td>OverDrive</td>\n      <td>EBOOK</td>\n      <td>2018</td>\n      <td>1</td>\n      <td>1</td>\n      <td>Immortal: Fallen Angels Series, Book 6</td>\n      <td>NaN</td>\n      <td>J.R. Ward</td>\n      <td>Fantasy, Fiction, Romance</td>\n      <td>Penguin Group (USA), Inc.</td>\n      <td>2014</td>\n    </tr>\n    <tr>\n      <th>9996</th>\n      <td>Digital</td>\n      <td>OverDrive</td>\n      <td>EBOOK</td>\n      <td>2018</td>\n      <td>1</td>\n      <td>1</td>\n      <td>The Price of Silence</td>\n      <td>NaN</td>\n      <td>Kate Wilhelm</td>\n      <td>Fiction, Suspense, Thriller</td>\n      <td>Harlequin Enterprises, Ltd.</td>\n      <td>2011</td>\n    </tr>\n    <tr>\n      <th>9997</th>\n      <td>Digital</td>\n      <td>Freegal</td>\n      <td>SONG</td>\n      <td>2018</td>\n      <td>1</td>\n      <td>1</td>\n      <td>Desert Hideaway</td>\n      <td>NaN</td>\n      <td>NaN</td>\n      <td>NaN</td>\n      <td>NaN</td>\n      <td>NaN</td>\n    </tr>\n    <tr>\n      <th>9998</th>\n      <td>Physical</td>\n      <td>Horizon</td>\n      <td>BOOK</td>\n      <td>2018</td>\n      <td>1</td>\n      <td>3</td>\n      <td>Waistcoats &amp; weaponry / Gail Carriger.</td>\n      <td>NaN</td>\n      <td>Carriger, Gail</td>\n      <td>Boarding schools Fiction, Schools Fiction, Eti...</td>\n      <td>Little, Brown and Company,</td>\n      <td>2014.</td>\n    </tr>\n    <tr>\n      <th>9999</th>\n      <td>Physical</td>\n      <td>Horizon</td>\n      <td>SOUNDDISC</td>\n      <td>2018</td>\n      <td>1</td>\n      <td>1</td>\n      <td>Red moon rising : [Sputnik and the hidden riva...</td>\n      <td>NaN</td>\n      <td>Brzezinski, Matthew, 1965-</td>\n      <td>Space race United States History 20th century,...</td>\n      <td>HighBridge,</td>\n      <td>[2007]</td>\n    </tr>\n  </tbody>\n</table>\n<p>9953 rows × 12 columns</p>\n</div>"
      ],
      "text/plain": [
       "     usageclass checkouttype materialtype  checkoutyear  checkoutmonth  \\\n0       Digital    OverDrive        EBOOK          2018              1   \n1       Digital       Hoopla   TELEVISION          2018              1   \n2      Physical      Horizon    SOUNDDISC          2018              1   \n3       Digital    OverDrive        EBOOK          2018              1   \n4       Digital    OverDrive        EBOOK          2018              1   \n...         ...          ...          ...           ...            ...   \n9995    Digital    OverDrive        EBOOK          2018              1   \n9996    Digital    OverDrive        EBOOK          2018              1   \n9997    Digital      Freegal         SONG          2018              1   \n9998   Physical      Horizon         BOOK          2018              1   \n9999   Physical      Horizon    SOUNDDISC          2018              1   \n\n      checkouts                                              title  isbn  \\\n0            22                                 Enemy of the State   NaN   \n1             1     Newspaper Mom / Cucumber in Rio / Donut Raffle   NaN   \n2             1                              Mono / the Mavericks.   NaN   \n3             2                                      Anna Karenina   NaN   \n4             1                        Dragon: Vlad Series, Book 8   NaN   \n...         ...                                                ...   ...   \n9995          1             Immortal: Fallen Angels Series, Book 6   NaN   \n9996          1                               The Price of Silence   NaN   \n9997          1                                    Desert Hideaway   NaN   \n9998          3             Waistcoats & weaponry / Gail Carriger.   NaN   \n9999          1  Red moon rising : [Sputnik and the hidden riva...   NaN   \n\n                         creator  \\\n0                    Vince Flynn   \n1                            NaN   \n2      Mavericks (Musical group)   \n3                    Leo Tolstoy   \n4                   Steven Brust   \n...                          ...   \n9995                   J.R. Ward   \n9996                Kate Wilhelm   \n9997                         NaN   \n9998              Carriger, Gail   \n9999  Brzezinski, Matthew, 1965-   \n\n                                               subjects  \\\n0                         Fiction, Literature, Thriller   \n1                                            Children's   \n2                               Country music 2011 2020   \n3               Classic Literature, Fiction, Literature   \n4                                      Fantasy, Fiction   \n...                                                 ...   \n9995                          Fantasy, Fiction, Romance   \n9996                        Fiction, Suspense, Thriller   \n9997                                                NaN   \n9998  Boarding schools Fiction, Schools Fiction, Eti...   \n9999  Space race United States History 20th century,...   \n\n                        publisher publicationyear  \n0          Simon & Schuster, Inc.            2017  \n1                       DHX Media             NaN  \n2                         Valory,          [2015]  \n3       Penguin Group (USA), Inc.            2009  \n4            Macmillan Publishers            2015  \n...                           ...             ...  \n9995    Penguin Group (USA), Inc.            2014  \n9996  Harlequin Enterprises, Ltd.            2011  \n9997                          NaN             NaN  \n9998   Little, Brown and Company,           2014.  \n9999                  HighBridge,          [2007]  \n\n[9953 rows x 12 columns]"
      ]
     },
     "execution_count": 9,
     "metadata": {},
     "output_type": "execute_result"
    }
   ],
   "source": [
    "comax = a['mean'] + (a['std']*4)\n",
    "comin = a['mean'] - (a['std']*4)\n",
    "dfNoOutlier = codf.loc[(codf['checkouts'] < comax) & (codf['checkouts'] > comin)]\n",
    "answerQ2 = len(codf) - len(dfNoOutlier)\n",
    "dfNoOutlier\n"
   ]
  },
  {
   "cell_type": "markdown",
   "id": "422f1164",
   "metadata": {
    "ein.tags": "worksheet-0",
    "slideshow": {
     "slide_type": "-"
    }
   },
   "source": [
    "Als Ausreißer müssen "
   ]
  },
  {
   "cell_type": "code",
   "execution_count": 10,
   "id": "d19d1935",
   "metadata": {
    "autoscroll": false,
    "collapsed": false,
    "ein.hycell": false,
    "ein.tags": "worksheet-0",
    "slideshow": {
     "slide_type": "-"
    }
   },
   "outputs": [
    {
     "data": {
      "text/plain": [
       "47"
      ]
     },
     "execution_count": 10,
     "metadata": {},
     "output_type": "execute_result"
    }
   ],
   "source": [
    "answerQ2"
   ]
  },
  {
   "cell_type": "markdown",
   "id": "fcadec93",
   "metadata": {
    "ein.tags": "worksheet-0",
    "slideshow": {
     "slide_type": "-"
    }
   },
   "source": [
    "Einträge angesehen werden."
   ]
  },
  {
   "cell_type": "code",
   "execution_count": 11,
   "id": "7f06c095",
   "metadata": {
    "autoscroll": false,
    "collapsed": false,
    "ein.hycell": false,
    "ein.tags": "worksheet-0",
    "slideshow": {
     "slide_type": "-"
    }
   },
   "outputs": [
    {
     "data": {
      "text/html": [
       "<div>\n<style scoped>\n    .dataframe tbody tr th:only-of-type {\n        vertical-align: middle;\n    }\n\n    .dataframe tbody tr th {\n        vertical-align: top;\n    }\n\n    .dataframe thead th {\n        text-align: right;\n    }\n</style>\n<table border=\"1\" class=\"dataframe\">\n  <thead>\n    <tr style=\"text-align: right;\">\n      <th></th>\n      <th>index</th>\n      <th>usageclass</th>\n      <th>checkouttype</th>\n      <th>materialtype</th>\n      <th>checkoutyear</th>\n      <th>checkoutmonth</th>\n      <th>checkouts</th>\n      <th>title</th>\n      <th>isbn</th>\n      <th>creator</th>\n      <th>subjects</th>\n      <th>publisher</th>\n      <th>publicationyear</th>\n      <th>title length</th>\n    </tr>\n  </thead>\n  <tbody>\n    <tr>\n      <th>2359</th>\n      <td>2370</td>\n      <td>Physical</td>\n      <td>Horizon</td>\n      <td>BOOK</td>\n      <td>2018</td>\n      <td>1</td>\n      <td>3</td>\n      <td>EFT for weight loss : the revolutionary techni...</td>\n      <td>NaN</td>\n      <td>Church, Dawson, 1956-</td>\n      <td>Weight loss, Emotional Freedom Techniques, Eat...</td>\n      <td>Energy Psychology Press,</td>\n      <td>[2013]</td>\n      <td>220</td>\n    </tr>\n    <tr>\n      <th>3413</th>\n      <td>3430</td>\n      <td>Physical</td>\n      <td>Horizon</td>\n      <td>BOOK</td>\n      <td>2018</td>\n      <td>1</td>\n      <td>1</td>\n      <td>Eat the city : a tale of the fishers, trappers...</td>\n      <td>NaN</td>\n      <td>Shulman, Robin</td>\n      <td>Food supply New York State New York History, N...</td>\n      <td>Crown,</td>\n      <td>[2012]</td>\n      <td>202</td>\n    </tr>\n    <tr>\n      <th>5887</th>\n      <td>5912</td>\n      <td>Physical</td>\n      <td>Horizon</td>\n      <td>BOOK</td>\n      <td>2018</td>\n      <td>1</td>\n      <td>1</td>\n      <td>On the nature of food allergy : a complete han...</td>\n      <td>NaN</td>\n      <td>Hannaway, Paul J.</td>\n      <td>Food allergy</td>\n      <td>Lighthouse Press,</td>\n      <td>[2007]</td>\n      <td>198</td>\n    </tr>\n    <tr>\n      <th>8897</th>\n      <td>8940</td>\n      <td>Digital</td>\n      <td>OverDrive</td>\n      <td>AUDIOBOOK</td>\n      <td>2018</td>\n      <td>1</td>\n      <td>1</td>\n      <td>An American Family Shakespeare Entertainment, ...</td>\n      <td>NaN</td>\n      <td>Stefan Rudnicki</td>\n      <td>Classic Literature, Fiction</td>\n      <td>Blackstone Audio, Inc.</td>\n      <td>2008</td>\n      <td>195</td>\n    </tr>\n    <tr>\n      <th>6044</th>\n      <td>6070</td>\n      <td>Physical</td>\n      <td>Horizon</td>\n      <td>BOOK</td>\n      <td>2018</td>\n      <td>1</td>\n      <td>4</td>\n      <td>The Landmark Julius Caesar : the complete work...</td>\n      <td>NaN</td>\n      <td>NaN</td>\n      <td>Caesar Julius, Gaul History Gallic Wars 58 51 ...</td>\n      <td>Pantheon Books,</td>\n      <td>©2017.</td>\n      <td>195</td>\n    </tr>\n    <tr>\n      <th>9828</th>\n      <td>9875</td>\n      <td>Physical</td>\n      <td>Horizon</td>\n      <td>SOUNDDISC</td>\n      <td>2018</td>\n      <td>1</td>\n      <td>1</td>\n      <td>Hothouse stomp : the music of 1920s Chicago an...</td>\n      <td>NaN</td>\n      <td>Brian Carpenter's Ghost Train Orchestra</td>\n      <td>Jazz 1921 1930, Jazz 2001 2010, Ragtime music,...</td>\n      <td>Accurate,</td>\n      <td>[2010]</td>\n      <td>194</td>\n    </tr>\n    <tr>\n      <th>5117</th>\n      <td>5138</td>\n      <td>Digital</td>\n      <td>OverDrive</td>\n      <td>EBOOK</td>\n      <td>2018</td>\n      <td>1</td>\n      <td>1</td>\n      <td>My First New York: Early Adventures in the Big...</td>\n      <td>NaN</td>\n      <td>New York Magazine</td>\n      <td>Nonfiction, Travel</td>\n      <td>HarperCollins Publishers Inc.</td>\n      <td>2013</td>\n      <td>192</td>\n    </tr>\n    <tr>\n      <th>8305</th>\n      <td>8348</td>\n      <td>Physical</td>\n      <td>Horizon</td>\n      <td>BOOK</td>\n      <td>2018</td>\n      <td>1</td>\n      <td>1</td>\n      <td>Will you be alive 10 years from now? : and num...</td>\n      <td>NaN</td>\n      <td>Nahin, Paul J.</td>\n      <td>Probabilities Problems exercises etc</td>\n      <td>Princeton University Press,</td>\n      <td>[2014]</td>\n      <td>190</td>\n    </tr>\n    <tr>\n      <th>4600</th>\n      <td>4619</td>\n      <td>Digital</td>\n      <td>OverDrive</td>\n      <td>AUDIOBOOK</td>\n      <td>2018</td>\n      <td>1</td>\n      <td>3</td>\n      <td>Princess in Black Series, Books 1-3: The Princ...</td>\n      <td>NaN</td>\n      <td>Shannon Hale</td>\n      <td>Juvenile Fiction, Juvenile Literature</td>\n      <td>Books on Tape</td>\n      <td>2016</td>\n      <td>188</td>\n    </tr>\n    <tr>\n      <th>5261</th>\n      <td>5282</td>\n      <td>Physical</td>\n      <td>Horizon</td>\n      <td>BOOK</td>\n      <td>2018</td>\n      <td>1</td>\n      <td>4</td>\n      <td>The low-FODMAP diet cookbook : 150 simple, fla...</td>\n      <td>NaN</td>\n      <td>Shepherd, Sue</td>\n      <td>Digestive organs Diseases Diet therapy Recipes...</td>\n      <td>The Experiment,</td>\n      <td>[2014]</td>\n      <td>187</td>\n    </tr>\n  </tbody>\n</table>\n</div>"
      ],
      "text/plain": [
       "      index usageclass checkouttype materialtype  checkoutyear  checkoutmonth  \\\n2359   2370   Physical      Horizon         BOOK          2018              1   \n3413   3430   Physical      Horizon         BOOK          2018              1   \n5887   5912   Physical      Horizon         BOOK          2018              1   \n8897   8940    Digital    OverDrive    AUDIOBOOK          2018              1   \n6044   6070   Physical      Horizon         BOOK          2018              1   \n9828   9875   Physical      Horizon    SOUNDDISC          2018              1   \n5117   5138    Digital    OverDrive        EBOOK          2018              1   \n8305   8348   Physical      Horizon         BOOK          2018              1   \n4600   4619    Digital    OverDrive    AUDIOBOOK          2018              1   \n5261   5282   Physical      Horizon         BOOK          2018              1   \n\n      checkouts                                              title  isbn  \\\n2359          3  EFT for weight loss : the revolutionary techni...   NaN   \n3413          1  Eat the city : a tale of the fishers, trappers...   NaN   \n5887          1  On the nature of food allergy : a complete han...   NaN   \n8897          1  An American Family Shakespeare Entertainment, ...   NaN   \n6044          4  The Landmark Julius Caesar : the complete work...   NaN   \n9828          1  Hothouse stomp : the music of 1920s Chicago an...   NaN   \n5117          1  My First New York: Early Adventures in the Big...   NaN   \n8305          1  Will you be alive 10 years from now? : and num...   NaN   \n4600          3  Princess in Black Series, Books 1-3: The Princ...   NaN   \n5261          4  The low-FODMAP diet cookbook : 150 simple, fla...   NaN   \n\n                                      creator  \\\n2359                    Church, Dawson, 1956-   \n3413                           Shulman, Robin   \n5887                        Hannaway, Paul J.   \n8897                          Stefan Rudnicki   \n6044                                      NaN   \n9828  Brian Carpenter's Ghost Train Orchestra   \n5117                        New York Magazine   \n8305                           Nahin, Paul J.   \n4600                             Shannon Hale   \n5261                            Shepherd, Sue   \n\n                                               subjects  \\\n2359  Weight loss, Emotional Freedom Techniques, Eat...   \n3413  Food supply New York State New York History, N...   \n5887                                       Food allergy   \n8897                        Classic Literature, Fiction   \n6044  Caesar Julius, Gaul History Gallic Wars 58 51 ...   \n9828  Jazz 1921 1930, Jazz 2001 2010, Ragtime music,...   \n5117                                 Nonfiction, Travel   \n8305               Probabilities Problems exercises etc   \n4600              Juvenile Fiction, Juvenile Literature   \n5261  Digestive organs Diseases Diet therapy Recipes...   \n\n                          publisher publicationyear  title length  \n2359       Energy Psychology Press,          [2013]           220  \n3413                         Crown,          [2012]           202  \n5887              Lighthouse Press,          [2007]           198  \n8897         Blackstone Audio, Inc.            2008           195  \n6044                Pantheon Books,          ©2017.           195  \n9828                      Accurate,          [2010]           194  \n5117  HarperCollins Publishers Inc.            2013           192  \n8305    Princeton University Press,          [2014]           190  \n4600                  Books on Tape            2016           188  \n5261                The Experiment,          [2014]           187  "
      ]
     },
     "execution_count": 11,
     "metadata": {},
     "output_type": "execute_result"
    }
   ],
   "source": [
    "#dfOutlier\n",
    "dfOutlier = codf.loc[(codf['checkouts'] > comax) | (codf['checkouts'] < comin)]\n",
    "\n",
    "titleLen = [len(i.split('/')[0]) for i in dfNoOutlier['title']]\n",
    "\n",
    "titleLen = pd.DataFrame({'title length' : titleLen})\n",
    "dfNoOutlier2 = dfNoOutlier.reset_index()\n",
    "x = pd.concat([dfNoOutlier2, titleLen], axis = 1)\n",
    "x = x.sort_values(by=['title length'], ascending = False)\n",
    "x.iloc[0:10]"
   ]
  },
  {
   "cell_type": "code",
   "execution_count": 12,
   "id": "d86b1716",
   "metadata": {
    "autoscroll": false,
    "collapsed": false,
    "ein.hycell": false,
    "ein.tags": "worksheet-0",
    "slideshow": {
     "slide_type": "-"
    }
   },
   "outputs": [
    {
     "data": {
      "image/png": "[encoded data removed]",
      "text/plain": [
       "<Figure size 432x288 with 1 Axes>"
      ]
     },
     "metadata": {},
     "output_type": "display_data"
    }
   ],
   "source": [
    "\n",
    "# subset pub year\n",
    "py = codf['publicationyear']\n",
    "# clean entries (rm all what's not number)\n",
    "pyn = [ re.sub(r'[^\\d/]', '', str(i)) for i in py ]\n",
    "\n",
    "# just take YYYY\n",
    "pynn = [int(i) for i in pyn if len(i) == 4]\n",
    "\n",
    "# less struggle to plot\n",
    "pynn = pd.DataFrame({'year':pynn})\n",
    "\n",
    "#pynn.hist() ## <- boring\n",
    "answerQ4 = pynn.value_counts()[::-1].plot()\n"
   ]
  }
 ],
 "metadata": {
  "kernelspec": {
   "argv": [
    "python",
    "-m",
    "ipykernel_launcher",
    "-f",
    "{connection_file}"
   ],
   "display_name": "Python 3 (ipykernel)",
   "env": null,
   "interrupt_mode": "signal",
   "language": "python",
   "metadata": {
    "debugger": true
   },
   "name": "python3"
  },
  "name": "20231219_fdm_ha3.ipynb"
 },
 "nbformat": 4,
 "nbformat_minor": 5
}
