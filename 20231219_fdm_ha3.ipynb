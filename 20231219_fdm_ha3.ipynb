{
 "cells": [
  {
   "cell_type": "code",
   "execution_count": 1,
   "id": "c411bc75",
   "metadata": {
    "autoscroll": false,
    "collapsed": false,
    "ein.hycell": false,
    "ein.tags": "worksheet-0",
    "slideshow": {
     "slide_type": "-"
    }
   },
   "outputs": [],
   "source": [
    "import urllib.request\n",
    "import pandas as pd\n"
   ]
  },
  {
   "cell_type": "markdown",
   "id": "e18abf99",
   "metadata": {
    "ein.tags": "worksheet-0",
    "slideshow": {
     "slide_type": "-"
    }
   },
   "source": [
    "# Aufgabe 3\n",
    "\n",
    "## Merging\n",
    "\n",
    "Führe einen \"right\", \"inner\" und einen \"outer\" Merge durch und schaue Dir die Ergebnisse dieser an."
   ]
  },
  {
   "cell_type": "code",
   "execution_count": 2,
   "id": "18dfc6a2",
   "metadata": {
    "autoscroll": false,
    "collapsed": false,
    "ein.hycell": false,
    "ein.tags": "worksheet-0",
    "slideshow": {
     "slide_type": "-"
    }
   },
   "outputs": [
    {
     "data": {
      "text/html": [
       "<div>\n<style scoped>\n    .dataframe tbody tr th:only-of-type {\n        vertical-align: middle;\n    }\n\n    .dataframe tbody tr th {\n        vertical-align: top;\n    }\n\n    .dataframe thead th {\n        text-align: right;\n    }\n</style>\n<table border=\"1\" class=\"dataframe\">\n  <thead>\n    <tr style=\"text-align: right;\">\n      <th></th>\n      <th>DOI</th>\n      <th>first_author</th>\n      <th>journal</th>\n    </tr>\n  </thead>\n  <tbody>\n    <tr>\n      <th>0</th>\n      <td>10.1371/journal.pcbi.1004668</td>\n      <td>Blischak</td>\n      <td>PLoS Comput Biol</td>\n    </tr>\n    <tr>\n      <th>1</th>\n      <td>10.21105/joss.01035</td>\n      <td>Sparks</td>\n      <td>JOSS</td>\n    </tr>\n    <tr>\n      <th>2</th>\n      <td>10.12688/f1000research.18866.2</td>\n      <td>Thang</td>\n      <td>F1000Res</td>\n    </tr>\n    <tr>\n      <th>3</th>\n      <td>10.1038/s41598-019-52881-4</td>\n      <td>NaN</td>\n      <td>Sci Rep</td>\n    </tr>\n    <tr>\n      <th>4</th>\n      <td>10.1186/s12859-019-3171-0</td>\n      <td>Chen</td>\n      <td>BMC Bioinformatics</td>\n    </tr>\n  </tbody>\n</table>\n</div>"
      ],
      "text/plain": [
       "                              DOI first_author             journal\n0    10.1371/journal.pcbi.1004668     Blischak    PLoS Comput Biol\n1             10.21105/joss.01035       Sparks                JOSS\n2  10.12688/f1000research.18866.2        Thang            F1000Res\n3      10.1038/s41598-019-52881-4          NaN             Sci Rep\n4       10.1186/s12859-019-3171-0         Chen  BMC Bioinformatics"
      ]
     },
     "execution_count": 2,
     "metadata": {},
     "output_type": "execute_result"
    }
   ],
   "source": [
    "\n",
    "doiJ = pd.DataFrame({\n",
    "    \"DOI\": [\"10.1371/journal.pcbi.1004668\",\n",
    "            \"10.21105/joss.01035\",\n",
    "            \"10.12688/f1000research.18866.2\",\n",
    "            \"10.1038/s41598-019-52881-4\",\n",
    "            \"10.1186/s12859-019-3171-0\"],\n",
    "    \"journal\": [\"PLoS Comput Biol\",\n",
    "                \"JOSS\",\n",
    "                \"F1000Res\",\n",
    "                \"Sci Rep\",\n",
    "                \"BMC Bioinformatics\"]\n",
    "})\n",
    "\n",
    "doiFA = pd.DataFrame({\n",
    "    \"DOI\": [\"10.1371/journal.pcbi.1004668\",\n",
    "            \"10.21105/joss.01035\",\n",
    "            \"10.21105/joss.01006\",\n",
    "            \"10.12688/f1000research.18866.2\",\n",
    "            \"10.1186/s12859-019-3171-0\"],\n",
    "    \"first_author\": [\"Blischak\",\n",
    "                     \"Sparks\",\n",
    "                     \"Granger\",\n",
    "                     \"Thang\",\n",
    "                     \"Chen\"]\n",
    "})\n",
    "\n",
    "\n",
    "pd.merge(doiFA, doiJ, how = 'right', on = 'DOI')"
   ]
  },
  {
   "cell_type": "code",
   "execution_count": 3,
   "id": "ab1fd0f5",
   "metadata": {
    "autoscroll": false,
    "collapsed": false,
    "ein.hycell": false,
    "ein.tags": "worksheet-0",
    "slideshow": {
     "slide_type": "-"
    }
   },
   "outputs": [
    {
     "data": {
      "text/html": [
       "<div>\n<style scoped>\n    .dataframe tbody tr th:only-of-type {\n        vertical-align: middle;\n    }\n\n    .dataframe tbody tr th {\n        vertical-align: top;\n    }\n\n    .dataframe thead th {\n        text-align: right;\n    }\n</style>\n<table border=\"1\" class=\"dataframe\">\n  <thead>\n    <tr style=\"text-align: right;\">\n      <th></th>\n      <th>DOI</th>\n      <th>journal</th>\n      <th>first_author</th>\n    </tr>\n  </thead>\n  <tbody>\n    <tr>\n      <th>0</th>\n      <td>10.1371/journal.pcbi.1004668</td>\n      <td>PLoS Comput Biol</td>\n      <td>Blischak</td>\n    </tr>\n    <tr>\n      <th>1</th>\n      <td>10.21105/joss.01035</td>\n      <td>JOSS</td>\n      <td>Sparks</td>\n    </tr>\n    <tr>\n      <th>2</th>\n      <td>10.21105/joss.01006</td>\n      <td>NaN</td>\n      <td>Granger</td>\n    </tr>\n    <tr>\n      <th>3</th>\n      <td>10.12688/f1000research.18866.2</td>\n      <td>F1000Res</td>\n      <td>Thang</td>\n    </tr>\n    <tr>\n      <th>4</th>\n      <td>10.1186/s12859-019-3171-0</td>\n      <td>BMC Bioinformatics</td>\n      <td>Chen</td>\n    </tr>\n  </tbody>\n</table>\n</div>"
      ],
      "text/plain": [
       "                              DOI             journal first_author\n0    10.1371/journal.pcbi.1004668    PLoS Comput Biol     Blischak\n1             10.21105/joss.01035                JOSS       Sparks\n2             10.21105/joss.01006                 NaN      Granger\n3  10.12688/f1000research.18866.2            F1000Res        Thang\n4       10.1186/s12859-019-3171-0  BMC Bioinformatics         Chen"
      ]
     },
     "execution_count": 3,
     "metadata": {},
     "output_type": "execute_result"
    }
   ],
   "source": [
    "pd.merge(doiJ, doiFA, how = 'right', on = 'DOI')"
   ]
  },
  {
   "cell_type": "code",
   "execution_count": 4,
   "id": "a4fed558",
   "metadata": {
    "autoscroll": false,
    "collapsed": false,
    "ein.hycell": false,
    "ein.tags": "worksheet-0",
    "slideshow": {
     "slide_type": "-"
    }
   },
   "outputs": [
    {
     "data": {
      "text/html": [
       "<div>\n<style scoped>\n    .dataframe tbody tr th:only-of-type {\n        vertical-align: middle;\n    }\n\n    .dataframe tbody tr th {\n        vertical-align: top;\n    }\n\n    .dataframe thead th {\n        text-align: right;\n    }\n</style>\n<table border=\"1\" class=\"dataframe\">\n  <thead>\n    <tr style=\"text-align: right;\">\n      <th></th>\n      <th>DOI</th>\n      <th>journal</th>\n      <th>first_author</th>\n    </tr>\n  </thead>\n  <tbody>\n    <tr>\n      <th>0</th>\n      <td>10.1371/journal.pcbi.1004668</td>\n      <td>PLoS Comput Biol</td>\n      <td>Blischak</td>\n    </tr>\n    <tr>\n      <th>1</th>\n      <td>10.21105/joss.01035</td>\n      <td>JOSS</td>\n      <td>Sparks</td>\n    </tr>\n    <tr>\n      <th>2</th>\n      <td>10.12688/f1000research.18866.2</td>\n      <td>F1000Res</td>\n      <td>Thang</td>\n    </tr>\n    <tr>\n      <th>3</th>\n      <td>10.1186/s12859-019-3171-0</td>\n      <td>BMC Bioinformatics</td>\n      <td>Chen</td>\n    </tr>\n  </tbody>\n</table>\n</div>"
      ],
      "text/plain": [
       "                              DOI             journal first_author\n0    10.1371/journal.pcbi.1004668    PLoS Comput Biol     Blischak\n1             10.21105/joss.01035                JOSS       Sparks\n2  10.12688/f1000research.18866.2            F1000Res        Thang\n3       10.1186/s12859-019-3171-0  BMC Bioinformatics         Chen"
      ]
     },
     "execution_count": 4,
     "metadata": {},
     "output_type": "execute_result"
    }
   ],
   "source": [
    "pd.merge(doiJ, doiFA, how = 'inner')"
   ]
  },
  {
   "cell_type": "code",
   "execution_count": 5,
   "id": "8bcbae02",
   "metadata": {
    "autoscroll": false,
    "collapsed": false,
    "ein.hycell": false,
    "ein.tags": "worksheet-0",
    "slideshow": {
     "slide_type": "-"
    }
   },
   "outputs": [
    {
     "data": {
      "text/html": [
       "<div>\n<style scoped>\n    .dataframe tbody tr th:only-of-type {\n        vertical-align: middle;\n    }\n\n    .dataframe tbody tr th {\n        vertical-align: top;\n    }\n\n    .dataframe thead th {\n        text-align: right;\n    }\n</style>\n<table border=\"1\" class=\"dataframe\">\n  <thead>\n    <tr style=\"text-align: right;\">\n      <th></th>\n      <th>DOI</th>\n      <th>journal</th>\n      <th>first_author</th>\n    </tr>\n  </thead>\n  <tbody>\n    <tr>\n      <th>0</th>\n      <td>10.1371/journal.pcbi.1004668</td>\n      <td>PLoS Comput Biol</td>\n      <td>Blischak</td>\n    </tr>\n    <tr>\n      <th>1</th>\n      <td>10.21105/joss.01035</td>\n      <td>JOSS</td>\n      <td>Sparks</td>\n    </tr>\n    <tr>\n      <th>2</th>\n      <td>10.12688/f1000research.18866.2</td>\n      <td>F1000Res</td>\n      <td>Thang</td>\n    </tr>\n    <tr>\n      <th>3</th>\n      <td>10.1038/s41598-019-52881-4</td>\n      <td>Sci Rep</td>\n      <td>NaN</td>\n    </tr>\n    <tr>\n      <th>4</th>\n      <td>10.1186/s12859-019-3171-0</td>\n      <td>BMC Bioinformatics</td>\n      <td>Chen</td>\n    </tr>\n    <tr>\n      <th>5</th>\n      <td>10.21105/joss.01006</td>\n      <td>NaN</td>\n      <td>Granger</td>\n    </tr>\n  </tbody>\n</table>\n</div>"
      ],
      "text/plain": [
       "                              DOI             journal first_author\n0    10.1371/journal.pcbi.1004668    PLoS Comput Biol     Blischak\n1             10.21105/joss.01035                JOSS       Sparks\n2  10.12688/f1000research.18866.2            F1000Res        Thang\n3      10.1038/s41598-019-52881-4             Sci Rep          NaN\n4       10.1186/s12859-019-3171-0  BMC Bioinformatics         Chen\n5             10.21105/joss.01006                 NaN      Granger"
      ]
     },
     "execution_count": 5,
     "metadata": {},
     "output_type": "execute_result"
    }
   ],
   "source": [
    "pd.merge(doiJ, doiFA, how = 'outer')"
   ]
  },
  {
   "cell_type": "markdown",
   "id": "3a18b8d9",
   "metadata": {
    "ein.tags": "worksheet-0",
    "slideshow": {
     "slide_type": "-"
    }
   },
   "source": [
    "\n",
    "- `right`: die Anordnung der Spalten des Ergebnisdataframes ist abhängig von der Reihenfolge im `merge`-Befehl; Einträge, die nicht zugeordnet werden können, werden mit `NaN` aufgefüllt\n",
    "- `inner`: nur Zeilen, die in beiden Datensätzen eine Entsprechung haben, werden ausgegeben\n",
    "- `outer`: alle Zeilen werden ausgegeben, entstehende Leerstellen werden mit `NaN` gefüllt"
   ]
  },
  {
   "cell_type": "markdown",
   "id": "34b47cbc",
   "metadata": {
    "ein.tags": "worksheet-0",
    "slideshow": {
     "slide_type": "-"
    }
   },
   "source": [
    "## Seattle Library\n",
    "\n",
    "Erstellt ein neues Jupyter Notebook und überlegt euch für die Aufgabe **drei** Fragen, die ihr mittels einer Analyse mit Pandas auf die Daten anwenden könnt. Visualisiert eure Analysen durch tabellarische Form oder ein Histogramm.\n",
    "\n",
    "- [ ] neues Jupy\n",
    "- [ ] 1. Frage: In welchem Jahr (insofern vorhanden) erschien das erste digitale Medium in der Sammlung?\n",
    "- [ ] 2. Frage: Wieviele Einträge in dem Datensatz sind in puncto Ausleihhäufigkeit als statistische Ausreißer zu betrachten?\n",
    "- [ ] 3. Frage:\n"
   ]
  },
  {
   "cell_type": "code",
   "execution_count": 6,
   "id": "57659b69",
   "metadata": {
    "autoscroll": false,
    "collapsed": false,
    "ein.hycell": false,
    "ein.tags": "worksheet-0",
    "slideshow": {
     "slide_type": "-"
    }
   },
   "outputs": [],
   "source": [
    "url = \"https://data.seattle.gov/resource/tmmm-ytt6.csv?$where=checkoutyear=2018&$limit=10000\"\n",
    "co = \"checkout.csv\"\n",
    "urllib.request.urlretrieve(url, co)\n",
    "codf = pd.read_csv(co)\n",
    "#codf"
   ]
  },
  {
   "cell_type": "code",
   "execution_count": 7,
   "id": "72b05136",
   "metadata": {
    "autoscroll": false,
    "collapsed": false,
    "ein.hycell": false,
    "ein.tags": "worksheet-0",
    "slideshow": {
     "slide_type": "-"
    }
   },
   "outputs": [],
   "source": [
    "sub1 = codf.loc[codf['usageclass'] == 'Digital']\n",
    "answerQ1 = sub1['publicationyear'].dropna().min()"
   ]
  },
  {
   "cell_type": "code",
   "execution_count": 8,
   "id": "21a659a7",
   "metadata": {
    "autoscroll": false,
    "collapsed": false,
    "ein.hycell": false,
    "ein.tags": "worksheet-0",
    "slideshow": {
     "slide_type": "-"
    }
   },
   "outputs": [
    {
     "data": {
      "text/plain": [
       "3.3392"
      ]
     },
     "execution_count": 8,
     "metadata": {},
     "output_type": "execute_result"
    }
   ],
   "source": [
    "codf\n",
    "a = codf['checkouts'].describe() #hist(bins = 100)\n",
    "\n",
    "\n",
    "#codf"
   ]
  },
  {
   "cell_type": "code",
   "execution_count": 24,
   "id": "999635bc",
   "metadata": {
    "autoscroll": false,
    "collapsed": false,
    "ein.hycell": false,
    "ein.tags": "worksheet-0",
    "slideshow": {
     "slide_type": "-"
    }
   },
   "outputs": [
    {
     "data": {
      "text/html": [
       "<div>\n<style scoped>\n    .dataframe tbody tr th:only-of-type {\n        vertical-align: middle;\n    }\n\n    .dataframe tbody tr th {\n        vertical-align: top;\n    }\n\n    .dataframe thead th {\n        text-align: right;\n    }\n</style>\n<table border=\"1\" class=\"dataframe\">\n  <thead>\n    <tr style=\"text-align: right;\">\n      <th></th>\n      <th>usageclass</th>\n      <th>checkouttype</th>\n      <th>materialtype</th>\n      <th>checkoutyear</th>\n      <th>checkoutmonth</th>\n      <th>checkouts</th>\n      <th>title</th>\n      <th>isbn</th>\n      <th>creator</th>\n      <th>subjects</th>\n      <th>publisher</th>\n      <th>publicationyear</th>\n    </tr>\n  </thead>\n  <tbody>\n    <tr>\n      <th>199</th>\n      <td>Digital</td>\n      <td>Zinio</td>\n      <td>MAGAZINE</td>\n      <td>2018</td>\n      <td>1</td>\n      <td>49</td>\n      <td>Family Circle</td>\n      <td>NaN</td>\n      <td>NaN</td>\n      <td>NaN</td>\n      <td>NaN</td>\n      <td>NaN</td>\n    </tr>\n    <tr>\n      <th>202</th>\n      <td>Digital</td>\n      <td>OverDrive</td>\n      <td>EBOOK</td>\n      <td>2018</td>\n      <td>1</td>\n      <td>52</td>\n      <td>Don't Let Go</td>\n      <td>NaN</td>\n      <td>Harlan Coben</td>\n      <td>Fiction, Suspense, Thriller</td>\n      <td>Penguin Group (USA), Inc.</td>\n      <td>2017</td>\n    </tr>\n    <tr>\n      <th>287</th>\n      <td>Digital</td>\n      <td>OverDrive</td>\n      <td>AUDIOBOOK</td>\n      <td>2018</td>\n      <td>1</td>\n      <td>64</td>\n      <td>Into the Water: A Novel (unabridged) (Unabridged)</td>\n      <td>NaN</td>\n      <td>Paula Hawkins</td>\n      <td>Fiction, Literature, Suspense, Thriller</td>\n      <td>Books on Tape</td>\n      <td>2017</td>\n    </tr>\n    <tr>\n      <th>563</th>\n      <td>Physical</td>\n      <td>Horizon</td>\n      <td>VIDEODISC</td>\n      <td>2018</td>\n      <td>1</td>\n      <td>79</td>\n      <td>The last word / Universal ; Bleecker Street ; ...</td>\n      <td>NaN</td>\n      <td>NaN</td>\n      <td>Retired women Drama, Female friendship Drama, ...</td>\n      <td>Universal Pictures Home Entertainment,</td>\n      <td>[2017]</td>\n    </tr>\n    <tr>\n      <th>620</th>\n      <td>Digital</td>\n      <td>Zinio</td>\n      <td>MAGAZINE</td>\n      <td>2018</td>\n      <td>1</td>\n      <td>50</td>\n      <td>House Beautiful</td>\n      <td>NaN</td>\n      <td>NaN</td>\n      <td>NaN</td>\n      <td>NaN</td>\n      <td>NaN</td>\n    </tr>\n    <tr>\n      <th>816</th>\n      <td>Digital</td>\n      <td>Zinio</td>\n      <td>MAGAZINE</td>\n      <td>2018</td>\n      <td>1</td>\n      <td>61</td>\n      <td>WIRED</td>\n      <td>NaN</td>\n      <td>NaN</td>\n      <td>NaN</td>\n      <td>NaN</td>\n      <td>NaN</td>\n    </tr>\n    <tr>\n      <th>867</th>\n      <td>Physical</td>\n      <td>Horizon</td>\n      <td>BOOK</td>\n      <td>2018</td>\n      <td>1</td>\n      <td>95</td>\n      <td>Leonardo da Vinci / Walter Isaacson.</td>\n      <td>NaN</td>\n      <td>Isaacson, Walter</td>\n      <td>Leonardo da Vinci 1452 1519, Artists Italy Bio...</td>\n      <td>Simon &amp; Schuster,</td>\n      <td>2017.</td>\n    </tr>\n    <tr>\n      <th>954</th>\n      <td>Digital</td>\n      <td>OverDrive</td>\n      <td>EBOOK</td>\n      <td>2018</td>\n      <td>1</td>\n      <td>71</td>\n      <td>Beartown: A Novel</td>\n      <td>NaN</td>\n      <td>Fredrik Backman</td>\n      <td>Fiction, Literature</td>\n      <td>Simon &amp; Schuster, Inc.</td>\n      <td>2017</td>\n    </tr>\n    <tr>\n      <th>2150</th>\n      <td>Digital</td>\n      <td>OverDrive</td>\n      <td>EBOOK</td>\n      <td>2018</td>\n      <td>1</td>\n      <td>65</td>\n      <td>Gray Mountain: A Novel</td>\n      <td>NaN</td>\n      <td>John Grisham</td>\n      <td>Fiction, Suspense, Thriller</td>\n      <td>Random House, Inc.</td>\n      <td>2014</td>\n    </tr>\n    <tr>\n      <th>2170</th>\n      <td>Physical</td>\n      <td>Horizon</td>\n      <td>VIDEODISC</td>\n      <td>2018</td>\n      <td>1</td>\n      <td>105</td>\n      <td>Ghostbusters / Columbia Pictures ; in associat...</td>\n      <td>NaN</td>\n      <td>NaN</td>\n      <td>Supernatural Drama, Parapsychology Drama, Feat...</td>\n      <td>Sony Pictures Home Entertainment,</td>\n      <td>[2016]</td>\n    </tr>\n    <tr>\n      <th>2344</th>\n      <td>Physical</td>\n      <td>Horizon</td>\n      <td>BOOK</td>\n      <td>2018</td>\n      <td>1</td>\n      <td>56</td>\n      <td>Sapiens : a brief history of humankind / Yuval...</td>\n      <td>NaN</td>\n      <td>Harari, Yuval N.</td>\n      <td>Civilization History, Human beings History, Wo...</td>\n      <td>Harper,</td>\n      <td>2015.</td>\n    </tr>\n    <tr>\n      <th>2534</th>\n      <td>Physical</td>\n      <td>Horizon</td>\n      <td>BOOK</td>\n      <td>2018</td>\n      <td>1</td>\n      <td>58</td>\n      <td>The grave's a fine and private place / Alan Br...</td>\n      <td>NaN</td>\n      <td>Bradley, C. Alan, 1938-</td>\n      <td>De Luce Flavia Fictitious character FIction, C...</td>\n      <td>Delacorte Press,</td>\n      <td>2018.</td>\n    </tr>\n    <tr>\n      <th>2671</th>\n      <td>Physical</td>\n      <td>Horizon</td>\n      <td>VIDEODISC</td>\n      <td>2018</td>\n      <td>1</td>\n      <td>84</td>\n      <td>Suicide squad / a Warner Bros. Pictures presen...</td>\n      <td>NaN</td>\n      <td>NaN</td>\n      <td>Joker Fictitious character Drama, Harley Quinn...</td>\n      <td>Warner Bros. Home Entertainment,</td>\n      <td>[2016]</td>\n    </tr>\n    <tr>\n      <th>2949</th>\n      <td>Physical</td>\n      <td>Horizon</td>\n      <td>VIDEODISC</td>\n      <td>2018</td>\n      <td>1</td>\n      <td>56</td>\n      <td>Now you see me. 2 / Summit Entertainment ; K/O...</td>\n      <td>NaN</td>\n      <td>NaN</td>\n      <td>Magicians Drama, Whistle blowing Drama, Busine...</td>\n      <td>Summit Entertainment/Lionsgate,</td>\n      <td>[2016]</td>\n    </tr>\n    <tr>\n      <th>2984</th>\n      <td>Physical</td>\n      <td>Horizon</td>\n      <td>VIDEODISC</td>\n      <td>2018</td>\n      <td>1</td>\n      <td>51</td>\n      <td>Grandma / Sony Pictures Classics ; an 1821 Med...</td>\n      <td>NaN</td>\n      <td>NaN</td>\n      <td>Grandmothers Drama, Grandparent and child Dram...</td>\n      <td>Sony Pictures Home Entertainment,</td>\n      <td>[2016]</td>\n    </tr>\n    <tr>\n      <th>3056</th>\n      <td>Digital</td>\n      <td>OverDrive</td>\n      <td>AUDIOBOOK</td>\n      <td>2018</td>\n      <td>1</td>\n      <td>106</td>\n      <td>The Underground Railroad (Oprah's Book Club): ...</td>\n      <td>NaN</td>\n      <td>Colson Whitehead</td>\n      <td>Fiction, Historical Fiction, Literature</td>\n      <td>Books on Tape</td>\n      <td>2016</td>\n    </tr>\n    <tr>\n      <th>3235</th>\n      <td>Digital</td>\n      <td>OverDrive</td>\n      <td>EBOOK</td>\n      <td>2018</td>\n      <td>1</td>\n      <td>84</td>\n      <td>Shrill: Notes from a Loud Woman</td>\n      <td>NaN</td>\n      <td>Lindy West</td>\n      <td>Biography &amp; Autobiography, Essays, Humor (Nonf...</td>\n      <td>Hachette Digital, Inc.</td>\n      <td>2016</td>\n    </tr>\n    <tr>\n      <th>3836</th>\n      <td>Physical</td>\n      <td>Horizon</td>\n      <td>VIDEODISC</td>\n      <td>2018</td>\n      <td>1</td>\n      <td>81</td>\n      <td>Sleepless / Open Road Films ; in association w...</td>\n      <td>NaN</td>\n      <td>NaN</td>\n      <td>Police corruption Drama, Kidnapping victims Dr...</td>\n      <td>Universal Pictures Home Entertainment,</td>\n      <td>[2017]</td>\n    </tr>\n    <tr>\n      <th>4473</th>\n      <td>Physical</td>\n      <td>Horizon</td>\n      <td>BOOK</td>\n      <td>2018</td>\n      <td>1</td>\n      <td>82</td>\n      <td>I'm a frog! / by Mo Willems.</td>\n      <td>NaN</td>\n      <td>Willems, Mo</td>\n      <td>Gerald Fictitious character Willems Juvenile f...</td>\n      <td>Hyperion Books for Children, an imprint of Dis...</td>\n      <td>[2013]</td>\n    </tr>\n    <tr>\n      <th>4897</th>\n      <td>Digital</td>\n      <td>OverDrive</td>\n      <td>AUDIOBOOK</td>\n      <td>2018</td>\n      <td>1</td>\n      <td>62</td>\n      <td>Where'd You Go, Bernadette: A Novel (unabridge...</td>\n      <td>NaN</td>\n      <td>Maria Semple</td>\n      <td>Fiction, Literature</td>\n      <td>Blackstone Audio, Inc.</td>\n      <td>2012</td>\n    </tr>\n    <tr>\n      <th>5100</th>\n      <td>Physical</td>\n      <td>Horizon</td>\n      <td>VIDEODISC</td>\n      <td>2018</td>\n      <td>1</td>\n      <td>66</td>\n      <td>The sense of an ending / CBS Films, FilmNation...</td>\n      <td>NaN</td>\n      <td>NaN</td>\n      <td>Middle aged men Drama, Life change events Dram...</td>\n      <td>Lionsgate,</td>\n      <td>[2017]</td>\n    </tr>\n    <tr>\n      <th>5329</th>\n      <td>Physical</td>\n      <td>Horizon</td>\n      <td>VIDEODISC</td>\n      <td>2018</td>\n      <td>1</td>\n      <td>56</td>\n      <td>London has fallen / Gramercy Pictures ; Millen...</td>\n      <td>NaN</td>\n      <td>NaN</td>\n      <td>Great Britain MI6 Drama, Prime ministers Engla...</td>\n      <td>Universal Pictures Home Entertainment : Univer...</td>\n      <td>[2016]</td>\n    </tr>\n    <tr>\n      <th>5670</th>\n      <td>Physical</td>\n      <td>Horizon</td>\n      <td>BOOK</td>\n      <td>2018</td>\n      <td>1</td>\n      <td>64</td>\n      <td>Legends of Zita the spacegirl / Ben Hatke.</td>\n      <td>NaN</td>\n      <td>Hatke, Ben</td>\n      <td>Heroes Comic books strips etc, Fame Comic book...</td>\n      <td>First Second : Distribted by Macmillan Childre...</td>\n      <td>2012.</td>\n    </tr>\n    <tr>\n      <th>5760</th>\n      <td>Physical</td>\n      <td>Horizon</td>\n      <td>BOOK</td>\n      <td>2018</td>\n      <td>1</td>\n      <td>61</td>\n      <td>Hilo. Book 3, The great big boom / by Judd Win...</td>\n      <td>NaN</td>\n      <td>Winick, Judd</td>\n      <td>Robots Comic books strips etc, Extraterrestria...</td>\n      <td>Random House,</td>\n      <td>[2017]</td>\n    </tr>\n    <tr>\n      <th>5884</th>\n      <td>Physical</td>\n      <td>Horizon</td>\n      <td>VIDEODISC</td>\n      <td>2018</td>\n      <td>1</td>\n      <td>46</td>\n      <td>Robin Hood / Distributed by Buena Vista Distri...</td>\n      <td>NaN</td>\n      <td>NaN</td>\n      <td>Robin Hood Legendary character Juvenile drama,...</td>\n      <td>Walt Disney Home Video,</td>\n      <td>[2013]</td>\n    </tr>\n    <tr>\n      <th>5971</th>\n      <td>Physical</td>\n      <td>Horizon</td>\n      <td>BOOK</td>\n      <td>2018</td>\n      <td>1</td>\n      <td>57</td>\n      <td>The day the crayons quit / Drew Daywalt ; illu...</td>\n      <td>NaN</td>\n      <td>Daywalt, Drew</td>\n      <td>Crayons Juvenile fiction, Letters Juvenile fic...</td>\n      <td>Philomel Books,</td>\n      <td>2013.</td>\n    </tr>\n    <tr>\n      <th>6084</th>\n      <td>Physical</td>\n      <td>Horizon</td>\n      <td>BOOK</td>\n      <td>2018</td>\n      <td>1</td>\n      <td>114</td>\n      <td>George &amp; Lizzie : a novel / Nancy Pearl.</td>\n      <td>NaN</td>\n      <td>Pearl, Nancy</td>\n      <td>Married people Fiction, Domestic fiction</td>\n      <td>Touchstone,</td>\n      <td>2017.</td>\n    </tr>\n    <tr>\n      <th>6480</th>\n      <td>Digital</td>\n      <td>OverDrive</td>\n      <td>AUDIOBOOK</td>\n      <td>2018</td>\n      <td>1</td>\n      <td>59</td>\n      <td>The Woman in Cabin 10 (Unabridged)</td>\n      <td>NaN</td>\n      <td>Ruth Ware</td>\n      <td>Fiction, Literature</td>\n      <td>Simon &amp; Schuster - All Library</td>\n      <td>2016</td>\n    </tr>\n    <tr>\n      <th>6488</th>\n      <td>Physical</td>\n      <td>Horizon</td>\n      <td>VIDEODISC</td>\n      <td>2018</td>\n      <td>1</td>\n      <td>57</td>\n      <td>Minions / Illumination Entertainment ; Univers...</td>\n      <td>NaN</td>\n      <td>NaN</td>\n      <td>Supervillains Juvenile drama, Good and evil Ju...</td>\n      <td>Universal Studios Home Entertainment,</td>\n      <td>[2015]</td>\n    </tr>\n    <tr>\n      <th>6576</th>\n      <td>Digital</td>\n      <td>Zinio</td>\n      <td>MAGAZINE</td>\n      <td>2018</td>\n      <td>1</td>\n      <td>86</td>\n      <td>Better Homes and Gardens</td>\n      <td>NaN</td>\n      <td>NaN</td>\n      <td>NaN</td>\n      <td>NaN</td>\n      <td>NaN</td>\n    </tr>\n    <tr>\n      <th>6598</th>\n      <td>Digital</td>\n      <td>OverDrive</td>\n      <td>EBOOK</td>\n      <td>2018</td>\n      <td>1</td>\n      <td>85</td>\n      <td>The Fifth Season: Broken Earth Series, Book 1</td>\n      <td>NaN</td>\n      <td>N. K. Jemisin</td>\n      <td>Fantasy, Fiction, Thriller</td>\n      <td>Hachette Digital, Inc.</td>\n      <td>2015</td>\n    </tr>\n    <tr>\n      <th>6638</th>\n      <td>Physical</td>\n      <td>Horizon</td>\n      <td>BOOK</td>\n      <td>2018</td>\n      <td>1</td>\n      <td>540</td>\n      <td>In the midst of winter : a novel / Isabel Alle...</td>\n      <td>NaN</td>\n      <td>Allende, Isabel</td>\n      <td>College teachers Fiction, Women college teache...</td>\n      <td>Atria Books,</td>\n      <td>2017.</td>\n    </tr>\n    <tr>\n      <th>6838</th>\n      <td>Physical</td>\n      <td>Horizon</td>\n      <td>SOUNDDISC</td>\n      <td>2018</td>\n      <td>1</td>\n      <td>51</td>\n      <td>Utopia / Björk.</td>\n      <td>NaN</td>\n      <td>Björk</td>\n      <td>Popular music 2011 2020, Popular music</td>\n      <td>One Little Indian,</td>\n      <td>[2017]</td>\n    </tr>\n    <tr>\n      <th>6855</th>\n      <td>Physical</td>\n      <td>Horizon</td>\n      <td>VIDEODISC</td>\n      <td>2018</td>\n      <td>1</td>\n      <td>89</td>\n      <td>Kidnap / Universal ; Aviron Pictures ; dB Pict...</td>\n      <td>NaN</td>\n      <td>NaN</td>\n      <td>Missing children Drama, Kidnapping Drama, Sing...</td>\n      <td>Universal Pictures Home Entertainment,</td>\n      <td>[2017]</td>\n    </tr>\n    <tr>\n      <th>6901</th>\n      <td>Physical</td>\n      <td>Horizon</td>\n      <td>VIDEODISC</td>\n      <td>2018</td>\n      <td>1</td>\n      <td>80</td>\n      <td>Whiskey tango foxtrot / Paramount Pictures ; a...</td>\n      <td>NaN</td>\n      <td>NaN</td>\n      <td>Barker Kim 1970 Drama, Afghan War 2001 Drama, ...</td>\n      <td>Paramount Home Entertainment,</td>\n      <td>[2016]</td>\n    </tr>\n    <tr>\n      <th>7038</th>\n      <td>Physical</td>\n      <td>Horizon</td>\n      <td>BOOK</td>\n      <td>2018</td>\n      <td>1</td>\n      <td>78</td>\n      <td>The duckling gets a cookie!? / words and pictu...</td>\n      <td>NaN</td>\n      <td>Willems, Mo</td>\n      <td>Pigeons Juvenile fiction, Ducks Fiction, Cooki...</td>\n      <td>Hyperion Books for Children,</td>\n      <td>2012.</td>\n    </tr>\n    <tr>\n      <th>7250</th>\n      <td>Digital</td>\n      <td>OverDrive</td>\n      <td>EBOOK</td>\n      <td>2018</td>\n      <td>1</td>\n      <td>76</td>\n      <td>Wonder</td>\n      <td>NaN</td>\n      <td>R. J. Palacio</td>\n      <td>Juvenile Fiction, Juvenile Literature</td>\n      <td>Random House, Inc.</td>\n      <td>2012</td>\n    </tr>\n    <tr>\n      <th>7444</th>\n      <td>Physical</td>\n      <td>Horizon</td>\n      <td>BOOK</td>\n      <td>2018</td>\n      <td>1</td>\n      <td>60</td>\n      <td>Bad kitty gets a bath / Nick Bruel.</td>\n      <td>NaN</td>\n      <td>Bruel, Nick</td>\n      <td>Cats Juvenile fiction, Baths Fiction, Humorous...</td>\n      <td>Roaring Brook Press,</td>\n      <td>2008.</td>\n    </tr>\n    <tr>\n      <th>7611</th>\n      <td>Digital</td>\n      <td>Zinio</td>\n      <td>MAGAZINE</td>\n      <td>2018</td>\n      <td>1</td>\n      <td>55</td>\n      <td>Kiplinger's Personal Finance</td>\n      <td>NaN</td>\n      <td>NaN</td>\n      <td>NaN</td>\n      <td>NaN</td>\n      <td>NaN</td>\n    </tr>\n    <tr>\n      <th>7711</th>\n      <td>Physical</td>\n      <td>Horizon</td>\n      <td>BOOK</td>\n      <td>2018</td>\n      <td>1</td>\n      <td>59</td>\n      <td>Olivia / written and illustrated by Ian Falconer.</td>\n      <td>NaN</td>\n      <td>Falconer, Ian, 1959-</td>\n      <td>Pigs Fiction, Behavior Fiction</td>\n      <td>Atheneum Books for Young Readers,</td>\n      <td>[2000]</td>\n    </tr>\n    <tr>\n      <th>7779</th>\n      <td>Physical</td>\n      <td>Horizon</td>\n      <td>VIDEODISC</td>\n      <td>2018</td>\n      <td>1</td>\n      <td>54</td>\n      <td>The autopsy of Jane Doe / IFC Midnight ; IM Gl...</td>\n      <td>NaN</td>\n      <td>NaN</td>\n      <td>Murder victims Drama, Autopsy Drama, Parapsych...</td>\n      <td>Scream Factory,</td>\n      <td>[2017]</td>\n    </tr>\n    <tr>\n      <th>7785</th>\n      <td>Physical</td>\n      <td>Horizon</td>\n      <td>VIDEODISC</td>\n      <td>2018</td>\n      <td>1</td>\n      <td>176</td>\n      <td>Hidden figures / 20th Century Fox ; Fox 2000 P...</td>\n      <td>NaN</td>\n      <td>NaN</td>\n      <td>United States National Aeronautics and Space A...</td>\n      <td>Twentieth Century Fox Home Entertainment,</td>\n      <td>[2017]</td>\n    </tr>\n    <tr>\n      <th>7787</th>\n      <td>Physical</td>\n      <td>Horizon</td>\n      <td>VIDEODISC</td>\n      <td>2018</td>\n      <td>1</td>\n      <td>47</td>\n      <td>Ex machina / A24 ; Universal Pictures Internat...</td>\n      <td>NaN</td>\n      <td>NaN</td>\n      <td>Internet industry Employees Drama, Androids Dr...</td>\n      <td>Lionsgate : A24,</td>\n      <td>[2015]</td>\n    </tr>\n    <tr>\n      <th>9255</th>\n      <td>Digital</td>\n      <td>Zinio</td>\n      <td>MAGAZINE</td>\n      <td>2018</td>\n      <td>1</td>\n      <td>354</td>\n      <td>The Economist</td>\n      <td>NaN</td>\n      <td>NaN</td>\n      <td>NaN</td>\n      <td>NaN</td>\n      <td>NaN</td>\n    </tr>\n    <tr>\n      <th>9575</th>\n      <td>Physical</td>\n      <td>Horizon</td>\n      <td>VIDEODISC</td>\n      <td>2018</td>\n      <td>1</td>\n      <td>48</td>\n      <td>The princess and the frog / Walt Disney Pictur...</td>\n      <td>NaN</td>\n      <td>NaN</td>\n      <td>Princesses Juvenile fiction, Princes Juvenile ...</td>\n      <td>Disney DVD : Distributed by Buena Vista Home E...</td>\n      <td>[2010]</td>\n    </tr>\n    <tr>\n      <th>9700</th>\n      <td>Physical</td>\n      <td>Horizon</td>\n      <td>BOOK</td>\n      <td>2018</td>\n      <td>1</td>\n      <td>495</td>\n      <td>Her body and other parties : stories / Carmen ...</td>\n      <td>NaN</td>\n      <td>Machado, Carmen Maria</td>\n      <td>Women Fiction, Psychological fiction, Science ...</td>\n      <td>Graywolf Press,</td>\n      <td>[2017]</td>\n    </tr>\n    <tr>\n      <th>9708</th>\n      <td>Physical</td>\n      <td>Horizon</td>\n      <td>VIDEODISC</td>\n      <td>2018</td>\n      <td>1</td>\n      <td>50</td>\n      <td>The man from U.N.C.L.E. / Warner Bros. Picture...</td>\n      <td>NaN</td>\n      <td>NaN</td>\n      <td>United States Central Intelligence Agency Dram...</td>\n      <td>Warner Home Video,</td>\n      <td>[2015]</td>\n    </tr>\n  </tbody>\n</table>\n</div>"
      ],
      "text/plain": [
       "     usageclass checkouttype materialtype  checkoutyear  checkoutmonth  \\\n199     Digital        Zinio     MAGAZINE          2018              1   \n202     Digital    OverDrive        EBOOK          2018              1   \n287     Digital    OverDrive    AUDIOBOOK          2018              1   \n563    Physical      Horizon    VIDEODISC          2018              1   \n620     Digital        Zinio     MAGAZINE          2018              1   \n816     Digital        Zinio     MAGAZINE          2018              1   \n867    Physical      Horizon         BOOK          2018              1   \n954     Digital    OverDrive        EBOOK          2018              1   \n2150    Digital    OverDrive        EBOOK          2018              1   \n2170   Physical      Horizon    VIDEODISC          2018              1   \n2344   Physical      Horizon         BOOK          2018              1   \n2534   Physical      Horizon         BOOK          2018              1   \n2671   Physical      Horizon    VIDEODISC          2018              1   \n2949   Physical      Horizon    VIDEODISC          2018              1   \n2984   Physical      Horizon    VIDEODISC          2018              1   \n3056    Digital    OverDrive    AUDIOBOOK          2018              1   \n3235    Digital    OverDrive        EBOOK          2018              1   \n3836   Physical      Horizon    VIDEODISC          2018              1   \n4473   Physical      Horizon         BOOK          2018              1   \n4897    Digital    OverDrive    AUDIOBOOK          2018              1   \n5100   Physical      Horizon    VIDEODISC          2018              1   \n5329   Physical      Horizon    VIDEODISC          2018              1   \n5670   Physical      Horizon         BOOK          2018              1   \n5760   Physical      Horizon         BOOK          2018              1   \n5884   Physical      Horizon    VIDEODISC          2018              1   \n5971   Physical      Horizon         BOOK          2018              1   \n6084   Physical      Horizon         BOOK          2018              1   \n6480    Digital    OverDrive    AUDIOBOOK          2018              1   \n6488   Physical      Horizon    VIDEODISC          2018              1   \n6576    Digital        Zinio     MAGAZINE          2018              1   \n6598    Digital    OverDrive        EBOOK          2018              1   \n6638   Physical      Horizon         BOOK          2018              1   \n6838   Physical      Horizon    SOUNDDISC          2018              1   \n6855   Physical      Horizon    VIDEODISC          2018              1   \n6901   Physical      Horizon    VIDEODISC          2018              1   \n7038   Physical      Horizon         BOOK          2018              1   \n7250    Digital    OverDrive        EBOOK          2018              1   \n7444   Physical      Horizon         BOOK          2018              1   \n7611    Digital        Zinio     MAGAZINE          2018              1   \n7711   Physical      Horizon         BOOK          2018              1   \n7779   Physical      Horizon    VIDEODISC          2018              1   \n7785   Physical      Horizon    VIDEODISC          2018              1   \n7787   Physical      Horizon    VIDEODISC          2018              1   \n9255    Digital        Zinio     MAGAZINE          2018              1   \n9575   Physical      Horizon    VIDEODISC          2018              1   \n9700   Physical      Horizon         BOOK          2018              1   \n9708   Physical      Horizon    VIDEODISC          2018              1   \n\n      checkouts                                              title  isbn  \\\n199          49                                      Family Circle   NaN   \n202          52                                       Don't Let Go   NaN   \n287          64  Into the Water: A Novel (unabridged) (Unabridged)   NaN   \n563          79  The last word / Universal ; Bleecker Street ; ...   NaN   \n620          50                                    House Beautiful   NaN   \n816          61                                              WIRED   NaN   \n867          95               Leonardo da Vinci / Walter Isaacson.   NaN   \n954          71                                  Beartown: A Novel   NaN   \n2150         65                             Gray Mountain: A Novel   NaN   \n2170        105  Ghostbusters / Columbia Pictures ; in associat...   NaN   \n2344         56  Sapiens : a brief history of humankind / Yuval...   NaN   \n2534         58  The grave's a fine and private place / Alan Br...   NaN   \n2671         84  Suicide squad / a Warner Bros. Pictures presen...   NaN   \n2949         56  Now you see me. 2 / Summit Entertainment ; K/O...   NaN   \n2984         51  Grandma / Sony Pictures Classics ; an 1821 Med...   NaN   \n3056        106  The Underground Railroad (Oprah's Book Club): ...   NaN   \n3235         84                    Shrill: Notes from a Loud Woman   NaN   \n3836         81  Sleepless / Open Road Films ; in association w...   NaN   \n4473         82                       I'm a frog! / by Mo Willems.   NaN   \n4897         62  Where'd You Go, Bernadette: A Novel (unabridge...   NaN   \n5100         66  The sense of an ending / CBS Films, FilmNation...   NaN   \n5329         56  London has fallen / Gramercy Pictures ; Millen...   NaN   \n5670         64         Legends of Zita the spacegirl / Ben Hatke.   NaN   \n5760         61  Hilo. Book 3, The great big boom / by Judd Win...   NaN   \n5884         46  Robin Hood / Distributed by Buena Vista Distri...   NaN   \n5971         57  The day the crayons quit / Drew Daywalt ; illu...   NaN   \n6084        114           George & Lizzie : a novel / Nancy Pearl.   NaN   \n6480         59                 The Woman in Cabin 10 (Unabridged)   NaN   \n6488         57  Minions / Illumination Entertainment ; Univers...   NaN   \n6576         86                           Better Homes and Gardens   NaN   \n6598         85      The Fifth Season: Broken Earth Series, Book 1   NaN   \n6638        540  In the midst of winter : a novel / Isabel Alle...   NaN   \n6838         51                                    Utopia / Björk.   NaN   \n6855         89  Kidnap / Universal ; Aviron Pictures ; dB Pict...   NaN   \n6901         80  Whiskey tango foxtrot / Paramount Pictures ; a...   NaN   \n7038         78  The duckling gets a cookie!? / words and pictu...   NaN   \n7250         76                                             Wonder   NaN   \n7444         60                Bad kitty gets a bath / Nick Bruel.   NaN   \n7611         55                       Kiplinger's Personal Finance   NaN   \n7711         59  Olivia / written and illustrated by Ian Falconer.   NaN   \n7779         54  The autopsy of Jane Doe / IFC Midnight ; IM Gl...   NaN   \n7785        176  Hidden figures / 20th Century Fox ; Fox 2000 P...   NaN   \n7787         47  Ex machina / A24 ; Universal Pictures Internat...   NaN   \n9255        354                                      The Economist   NaN   \n9575         48  The princess and the frog / Walt Disney Pictur...   NaN   \n9700        495  Her body and other parties : stories / Carmen ...   NaN   \n9708         50  The man from U.N.C.L.E. / Warner Bros. Picture...   NaN   \n\n                      creator  \\\n199                       NaN   \n202              Harlan Coben   \n287             Paula Hawkins   \n563                       NaN   \n620                       NaN   \n816                       NaN   \n867          Isaacson, Walter   \n954           Fredrik Backman   \n2150             John Grisham   \n2170                      NaN   \n2344         Harari, Yuval N.   \n2534  Bradley, C. Alan, 1938-   \n2671                      NaN   \n2949                      NaN   \n2984                      NaN   \n3056         Colson Whitehead   \n3235               Lindy West   \n3836                      NaN   \n4473              Willems, Mo   \n4897             Maria Semple   \n5100                      NaN   \n5329                      NaN   \n5670               Hatke, Ben   \n5760             Winick, Judd   \n5884                      NaN   \n5971            Daywalt, Drew   \n6084             Pearl, Nancy   \n6480                Ruth Ware   \n6488                      NaN   \n6576                      NaN   \n6598            N. K. Jemisin   \n6638          Allende, Isabel   \n6838                    Björk   \n6855                      NaN   \n6901                      NaN   \n7038              Willems, Mo   \n7250            R. J. Palacio   \n7444              Bruel, Nick   \n7611                      NaN   \n7711     Falconer, Ian, 1959-   \n7779                      NaN   \n7785                      NaN   \n7787                      NaN   \n9255                      NaN   \n9575                      NaN   \n9700    Machado, Carmen Maria   \n9708                      NaN   \n\n                                               subjects  \\\n199                                                 NaN   \n202                         Fiction, Suspense, Thriller   \n287             Fiction, Literature, Suspense, Thriller   \n563   Retired women Drama, Female friendship Drama, ...   \n620                                                 NaN   \n816                                                 NaN   \n867   Leonardo da Vinci 1452 1519, Artists Italy Bio...   \n954                                 Fiction, Literature   \n2150                        Fiction, Suspense, Thriller   \n2170  Supernatural Drama, Parapsychology Drama, Feat...   \n2344  Civilization History, Human beings History, Wo...   \n2534  De Luce Flavia Fictitious character FIction, C...   \n2671  Joker Fictitious character Drama, Harley Quinn...   \n2949  Magicians Drama, Whistle blowing Drama, Busine...   \n2984  Grandmothers Drama, Grandparent and child Dram...   \n3056            Fiction, Historical Fiction, Literature   \n3235  Biography & Autobiography, Essays, Humor (Nonf...   \n3836  Police corruption Drama, Kidnapping victims Dr...   \n4473  Gerald Fictitious character Willems Juvenile f...   \n4897                                Fiction, Literature   \n5100  Middle aged men Drama, Life change events Dram...   \n5329  Great Britain MI6 Drama, Prime ministers Engla...   \n5670  Heroes Comic books strips etc, Fame Comic book...   \n5760  Robots Comic books strips etc, Extraterrestria...   \n5884  Robin Hood Legendary character Juvenile drama,...   \n5971  Crayons Juvenile fiction, Letters Juvenile fic...   \n6084           Married people Fiction, Domestic fiction   \n6480                                Fiction, Literature   \n6488  Supervillains Juvenile drama, Good and evil Ju...   \n6576                                                NaN   \n6598                         Fantasy, Fiction, Thriller   \n6638  College teachers Fiction, Women college teache...   \n6838             Popular music 2011 2020, Popular music   \n6855  Missing children Drama, Kidnapping Drama, Sing...   \n6901  Barker Kim 1970 Drama, Afghan War 2001 Drama, ...   \n7038  Pigeons Juvenile fiction, Ducks Fiction, Cooki...   \n7250              Juvenile Fiction, Juvenile Literature   \n7444  Cats Juvenile fiction, Baths Fiction, Humorous...   \n7611                                                NaN   \n7711                     Pigs Fiction, Behavior Fiction   \n7779  Murder victims Drama, Autopsy Drama, Parapsych...   \n7785  United States National Aeronautics and Space A...   \n7787  Internet industry Employees Drama, Androids Dr...   \n9255                                                NaN   \n9575  Princesses Juvenile fiction, Princes Juvenile ...   \n9700  Women Fiction, Psychological fiction, Science ...   \n9708  United States Central Intelligence Agency Dram...   \n\n                                              publisher publicationyear  \n199                                                 NaN             NaN  \n202                           Penguin Group (USA), Inc.            2017  \n287                                       Books on Tape            2017  \n563              Universal Pictures Home Entertainment,          [2017]  \n620                                                 NaN             NaN  \n816                                                 NaN             NaN  \n867                                   Simon & Schuster,           2017.  \n954                              Simon & Schuster, Inc.            2017  \n2150                                 Random House, Inc.            2014  \n2170                  Sony Pictures Home Entertainment,          [2016]  \n2344                                            Harper,           2015.  \n2534                                   Delacorte Press,           2018.  \n2671                   Warner Bros. Home Entertainment,          [2016]  \n2949                    Summit Entertainment/Lionsgate,          [2016]  \n2984                  Sony Pictures Home Entertainment,          [2016]  \n3056                                      Books on Tape            2016  \n3235                             Hachette Digital, Inc.            2016  \n3836             Universal Pictures Home Entertainment,          [2017]  \n4473  Hyperion Books for Children, an imprint of Dis...          [2013]  \n4897                             Blackstone Audio, Inc.            2012  \n5100                                         Lionsgate,          [2017]  \n5329  Universal Pictures Home Entertainment : Univer...          [2016]  \n5670  First Second : Distribted by Macmillan Childre...           2012.  \n5760                                      Random House,          [2017]  \n5884                            Walt Disney Home Video,          [2013]  \n5971                                    Philomel Books,           2013.  \n6084                                        Touchstone,           2017.  \n6480                     Simon & Schuster - All Library            2016  \n6488              Universal Studios Home Entertainment,          [2015]  \n6576                                                NaN             NaN  \n6598                             Hachette Digital, Inc.            2015  \n6638                                       Atria Books,           2017.  \n6838                                 One Little Indian,          [2017]  \n6855             Universal Pictures Home Entertainment,          [2017]  \n6901                      Paramount Home Entertainment,          [2016]  \n7038                       Hyperion Books for Children,           2012.  \n7250                                 Random House, Inc.            2012  \n7444                               Roaring Brook Press,           2008.  \n7611                                                NaN             NaN  \n7711                  Atheneum Books for Young Readers,          [2000]  \n7779                                    Scream Factory,          [2017]  \n7785          Twentieth Century Fox Home Entertainment,          [2017]  \n7787                                   Lionsgate : A24,          [2015]  \n9255                                                NaN             NaN  \n9575  Disney DVD : Distributed by Buena Vista Home E...          [2010]  \n9700                                    Graywolf Press,          [2017]  \n9708                                 Warner Home Video,          [2015]  "
      ]
     },
     "execution_count": 24,
     "metadata": {},
     "output_type": "execute_result"
    }
   ],
   "source": [
    "\n",
    "comax = a['mean'] + (a['std']*4)\n",
    "comin = a['mean'] - (a['std']*4)\n",
    "dfNoOutlier = codf.loc[(codf['checkouts'] < comax) & (codf['checkouts'] > comin)]\n",
    "answerQ2 = len(codf) - len(dfNoOutlier)\n",
    "#dfOutlier\n",
    "dfOutlier = codf.loc[(codf['checkouts'] > comax) | (codf['checkouts'] < comin)]"
   ]
  }
 ],
 "metadata": {
  "kernelspec": {
   "argv": [
    "python",
    "-m",
    "ipykernel_launcher",
    "-f",
    "{connection_file}"
   ],
   "display_name": "Python 3 (ipykernel)",
   "env": null,
   "interrupt_mode": "signal",
   "language": "python",
   "metadata": {
    "debugger": true
   },
   "name": "python3"
  },
  "name": "20231219_fdm_ha3.ipynb"
 },
 "nbformat": 4,
 "nbformat_minor": 5
}
