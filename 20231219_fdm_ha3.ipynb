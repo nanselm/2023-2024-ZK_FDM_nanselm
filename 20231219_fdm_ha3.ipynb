{
 "cells": [
  {
   "cell_type": "code",
   "execution_count": 1,
   "id": "b912e68e",
   "metadata": {
    "autoscroll": false,
    "collapsed": false,
    "ein.hycell": false,
    "ein.tags": "worksheet-0",
    "slideshow": {
     "slide_type": "-"
    }
   },
   "outputs": [],
   "source": [
    "import urllib.request\n",
    "import pandas as pd\n"
   ]
  },
  {
   "cell_type": "markdown",
   "id": "3caddb4e",
   "metadata": {
    "ein.tags": "worksheet-0",
    "slideshow": {
     "slide_type": "-"
    }
   },
   "source": [
    "# Aufgabe 3\n",
    "\n",
    "## Merging\n",
    "\n",
    "Führe einen \"right\", \"inner\" und einen \"outer\" Merge durch und schaue Dir die Ergebnisse dieser an."
   ]
  },
  {
   "cell_type": "code",
   "execution_count": 2,
   "id": "3abd3431",
   "metadata": {
    "autoscroll": false,
    "collapsed": false,
    "ein.hycell": false,
    "ein.tags": "worksheet-0",
    "slideshow": {
     "slide_type": "-"
    }
   },
   "outputs": [
    {
     "data": {
      "text/html": [
       "<div>\n<style scoped>\n    .dataframe tbody tr th:only-of-type {\n        vertical-align: middle;\n    }\n\n    .dataframe tbody tr th {\n        vertical-align: top;\n    }\n\n    .dataframe thead th {\n        text-align: right;\n    }\n</style>\n<table border=\"1\" class=\"dataframe\">\n  <thead>\n    <tr style=\"text-align: right;\">\n      <th></th>\n      <th>DOI</th>\n      <th>first_author</th>\n      <th>journal</th>\n    </tr>\n  </thead>\n  <tbody>\n    <tr>\n      <th>0</th>\n      <td>10.1371/journal.pcbi.1004668</td>\n      <td>Blischak</td>\n      <td>PLoS Comput Biol</td>\n    </tr>\n    <tr>\n      <th>1</th>\n      <td>10.21105/joss.01035</td>\n      <td>Sparks</td>\n      <td>JOSS</td>\n    </tr>\n    <tr>\n      <th>2</th>\n      <td>10.12688/f1000research.18866.2</td>\n      <td>Thang</td>\n      <td>F1000Res</td>\n    </tr>\n    <tr>\n      <th>3</th>\n      <td>10.1038/s41598-019-52881-4</td>\n      <td>NaN</td>\n      <td>Sci Rep</td>\n    </tr>\n    <tr>\n      <th>4</th>\n      <td>10.1186/s12859-019-3171-0</td>\n      <td>Chen</td>\n      <td>BMC Bioinformatics</td>\n    </tr>\n  </tbody>\n</table>\n</div>"
      ],
      "text/plain": [
       "                              DOI first_author             journal\n0    10.1371/journal.pcbi.1004668     Blischak    PLoS Comput Biol\n1             10.21105/joss.01035       Sparks                JOSS\n2  10.12688/f1000research.18866.2        Thang            F1000Res\n3      10.1038/s41598-019-52881-4          NaN             Sci Rep\n4       10.1186/s12859-019-3171-0         Chen  BMC Bioinformatics"
      ]
     },
     "execution_count": 2,
     "metadata": {},
     "output_type": "execute_result"
    }
   ],
   "source": [
    "\n",
    "doiJ = pd.DataFrame({\n",
    "    \"DOI\": [\"10.1371/journal.pcbi.1004668\",\n",
    "            \"10.21105/joss.01035\",\n",
    "            \"10.12688/f1000research.18866.2\",\n",
    "            \"10.1038/s41598-019-52881-4\",\n",
    "            \"10.1186/s12859-019-3171-0\"],\n",
    "    \"journal\": [\"PLoS Comput Biol\",\n",
    "                \"JOSS\",\n",
    "                \"F1000Res\",\n",
    "                \"Sci Rep\",\n",
    "                \"BMC Bioinformatics\"]\n",
    "})\n",
    "\n",
    "doiFA = pd.DataFrame({\n",
    "    \"DOI\": [\"10.1371/journal.pcbi.1004668\",\n",
    "            \"10.21105/joss.01035\",\n",
    "            \"10.21105/joss.01006\",\n",
    "            \"10.12688/f1000research.18866.2\",\n",
    "            \"10.1186/s12859-019-3171-0\"],\n",
    "    \"first_author\": [\"Blischak\",\n",
    "                     \"Sparks\",\n",
    "                     \"Granger\",\n",
    "                     \"Thang\",\n",
    "                     \"Chen\"]\n",
    "})\n",
    "\n",
    "\n",
    "pd.merge(doiFA, doiJ, how = 'right', on = 'DOI')"
   ]
  },
  {
   "cell_type": "code",
   "execution_count": 3,
   "id": "fb5e4891",
   "metadata": {
    "autoscroll": false,
    "collapsed": false,
    "ein.hycell": false,
    "ein.tags": "worksheet-0",
    "slideshow": {
     "slide_type": "-"
    }
   },
   "outputs": [
    {
     "data": {
      "text/html": [
       "<div>\n<style scoped>\n    .dataframe tbody tr th:only-of-type {\n        vertical-align: middle;\n    }\n\n    .dataframe tbody tr th {\n        vertical-align: top;\n    }\n\n    .dataframe thead th {\n        text-align: right;\n    }\n</style>\n<table border=\"1\" class=\"dataframe\">\n  <thead>\n    <tr style=\"text-align: right;\">\n      <th></th>\n      <th>DOI</th>\n      <th>journal</th>\n      <th>first_author</th>\n    </tr>\n  </thead>\n  <tbody>\n    <tr>\n      <th>0</th>\n      <td>10.1371/journal.pcbi.1004668</td>\n      <td>PLoS Comput Biol</td>\n      <td>Blischak</td>\n    </tr>\n    <tr>\n      <th>1</th>\n      <td>10.21105/joss.01035</td>\n      <td>JOSS</td>\n      <td>Sparks</td>\n    </tr>\n    <tr>\n      <th>2</th>\n      <td>10.21105/joss.01006</td>\n      <td>NaN</td>\n      <td>Granger</td>\n    </tr>\n    <tr>\n      <th>3</th>\n      <td>10.12688/f1000research.18866.2</td>\n      <td>F1000Res</td>\n      <td>Thang</td>\n    </tr>\n    <tr>\n      <th>4</th>\n      <td>10.1186/s12859-019-3171-0</td>\n      <td>BMC Bioinformatics</td>\n      <td>Chen</td>\n    </tr>\n  </tbody>\n</table>\n</div>"
      ],
      "text/plain": [
       "                              DOI             journal first_author\n0    10.1371/journal.pcbi.1004668    PLoS Comput Biol     Blischak\n1             10.21105/joss.01035                JOSS       Sparks\n2             10.21105/joss.01006                 NaN      Granger\n3  10.12688/f1000research.18866.2            F1000Res        Thang\n4       10.1186/s12859-019-3171-0  BMC Bioinformatics         Chen"
      ]
     },
     "execution_count": 3,
     "metadata": {},
     "output_type": "execute_result"
    }
   ],
   "source": [
    "pd.merge(doiJ, doiFA, how = 'right', on = 'DOI')"
   ]
  },
  {
   "cell_type": "code",
   "execution_count": 4,
   "id": "3df4dbb8",
   "metadata": {
    "autoscroll": false,
    "collapsed": false,
    "ein.hycell": false,
    "ein.tags": "worksheet-0",
    "slideshow": {
     "slide_type": "-"
    }
   },
   "outputs": [
    {
     "data": {
      "text/html": [
       "<div>\n<style scoped>\n    .dataframe tbody tr th:only-of-type {\n        vertical-align: middle;\n    }\n\n    .dataframe tbody tr th {\n        vertical-align: top;\n    }\n\n    .dataframe thead th {\n        text-align: right;\n    }\n</style>\n<table border=\"1\" class=\"dataframe\">\n  <thead>\n    <tr style=\"text-align: right;\">\n      <th></th>\n      <th>DOI</th>\n      <th>journal</th>\n      <th>first_author</th>\n    </tr>\n  </thead>\n  <tbody>\n    <tr>\n      <th>0</th>\n      <td>10.1371/journal.pcbi.1004668</td>\n      <td>PLoS Comput Biol</td>\n      <td>Blischak</td>\n    </tr>\n    <tr>\n      <th>1</th>\n      <td>10.21105/joss.01035</td>\n      <td>JOSS</td>\n      <td>Sparks</td>\n    </tr>\n    <tr>\n      <th>2</th>\n      <td>10.12688/f1000research.18866.2</td>\n      <td>F1000Res</td>\n      <td>Thang</td>\n    </tr>\n    <tr>\n      <th>3</th>\n      <td>10.1186/s12859-019-3171-0</td>\n      <td>BMC Bioinformatics</td>\n      <td>Chen</td>\n    </tr>\n  </tbody>\n</table>\n</div>"
      ],
      "text/plain": [
       "                              DOI             journal first_author\n0    10.1371/journal.pcbi.1004668    PLoS Comput Biol     Blischak\n1             10.21105/joss.01035                JOSS       Sparks\n2  10.12688/f1000research.18866.2            F1000Res        Thang\n3       10.1186/s12859-019-3171-0  BMC Bioinformatics         Chen"
      ]
     },
     "execution_count": 4,
     "metadata": {},
     "output_type": "execute_result"
    }
   ],
   "source": [
    "pd.merge(doiJ, doiFA, how = 'inner')"
   ]
  },
  {
   "cell_type": "code",
   "execution_count": 5,
   "id": "8108c5c1",
   "metadata": {
    "autoscroll": false,
    "collapsed": false,
    "ein.hycell": false,
    "ein.tags": "worksheet-0",
    "slideshow": {
     "slide_type": "-"
    }
   },
   "outputs": [
    {
     "data": {
      "text/html": [
       "<div>\n<style scoped>\n    .dataframe tbody tr th:only-of-type {\n        vertical-align: middle;\n    }\n\n    .dataframe tbody tr th {\n        vertical-align: top;\n    }\n\n    .dataframe thead th {\n        text-align: right;\n    }\n</style>\n<table border=\"1\" class=\"dataframe\">\n  <thead>\n    <tr style=\"text-align: right;\">\n      <th></th>\n      <th>DOI</th>\n      <th>journal</th>\n      <th>first_author</th>\n    </tr>\n  </thead>\n  <tbody>\n    <tr>\n      <th>0</th>\n      <td>10.1371/journal.pcbi.1004668</td>\n      <td>PLoS Comput Biol</td>\n      <td>Blischak</td>\n    </tr>\n    <tr>\n      <th>1</th>\n      <td>10.21105/joss.01035</td>\n      <td>JOSS</td>\n      <td>Sparks</td>\n    </tr>\n    <tr>\n      <th>2</th>\n      <td>10.12688/f1000research.18866.2</td>\n      <td>F1000Res</td>\n      <td>Thang</td>\n    </tr>\n    <tr>\n      <th>3</th>\n      <td>10.1038/s41598-019-52881-4</td>\n      <td>Sci Rep</td>\n      <td>NaN</td>\n    </tr>\n    <tr>\n      <th>4</th>\n      <td>10.1186/s12859-019-3171-0</td>\n      <td>BMC Bioinformatics</td>\n      <td>Chen</td>\n    </tr>\n    <tr>\n      <th>5</th>\n      <td>10.21105/joss.01006</td>\n      <td>NaN</td>\n      <td>Granger</td>\n    </tr>\n  </tbody>\n</table>\n</div>"
      ],
      "text/plain": [
       "                              DOI             journal first_author\n0    10.1371/journal.pcbi.1004668    PLoS Comput Biol     Blischak\n1             10.21105/joss.01035                JOSS       Sparks\n2  10.12688/f1000research.18866.2            F1000Res        Thang\n3      10.1038/s41598-019-52881-4             Sci Rep          NaN\n4       10.1186/s12859-019-3171-0  BMC Bioinformatics         Chen\n5             10.21105/joss.01006                 NaN      Granger"
      ]
     },
     "execution_count": 5,
     "metadata": {},
     "output_type": "execute_result"
    }
   ],
   "source": [
    "pd.merge(doiJ, doiFA, how = 'outer')"
   ]
  },
  {
   "cell_type": "markdown",
   "id": "7055f1be",
   "metadata": {
    "ein.tags": "worksheet-0",
    "slideshow": {
     "slide_type": "-"
    }
   },
   "source": [
    "\n",
    "- `right`: die Anordnung der Spalten des Ergebnisdataframes ist abhängig von der Reihenfolge im `merge`-Befehl; Einträge, die nicht zugeordnet werden können, werden mit `NaN` aufgefüllt\n",
    "- `inner`: nur Zeilen, die in beiden Datensätzen eine Entsprechung haben, werden ausgegeben\n",
    "- `outer`: alle Zeilen werden ausgegeben, entstehende Leerstellen werden mit `NaN` gefüllt"
   ]
  },
  {
   "cell_type": "markdown",
   "id": "9363270d",
   "metadata": {
    "ein.tags": "worksheet-0",
    "slideshow": {
     "slide_type": "-"
    }
   },
   "source": [
    "## Seattle Library\n",
    "\n",
    "Erstellt ein neues Jupyter Notebook und überlegt euch für die Aufgabe **drei** Fragen, die ihr mittels einer Analyse mit Pandas auf die Daten anwenden könnt. Visualisiert eure Analysen durch tabellarische Form oder ein Histogramm.\n",
    "\n",
    "- [x] neues Jupy\n",
    "- [x] 1. Frage: In welchem Jahr (insofern vorhanden) erschien das erste digitale Medium in der Sammlung?\n",
    "- [x] 2. Frage: Wieviele Einträge in dem Datensatz sind in puncto Ausleihhäufigkeit als statistische Ausreißer zu betrachten?\n",
    "- [x] 3. Frage: Welcher der Ausreißer hat den langsten Titel?\n"
   ]
  },
  {
   "cell_type": "code",
   "execution_count": 6,
   "id": "143d4d84",
   "metadata": {
    "autoscroll": false,
    "collapsed": false,
    "ein.hycell": false,
    "ein.tags": "worksheet-0",
    "slideshow": {
     "slide_type": "-"
    }
   },
   "outputs": [],
   "source": [
    "url = \"https://data.seattle.gov/resource/tmmm-ytt6.csv?$where=checkoutyear=2018&$limit=10000\"\n",
    "co = \"checkout.csv\"\n",
    "urllib.request.urlretrieve(url, co)\n",
    "codf = pd.read_csv(co)\n",
    "#codf"
   ]
  },
  {
   "cell_type": "code",
   "execution_count": 7,
   "id": "f579d46c",
   "metadata": {
    "autoscroll": false,
    "collapsed": false,
    "ein.hycell": false,
    "ein.tags": "worksheet-0",
    "slideshow": {
     "slide_type": "-"
    }
   },
   "outputs": [],
   "source": [
    "sub1 = codf.loc[codf['usageclass'] == 'Digital']\n",
    "answerQ1 = sub1['publicationyear'].dropna().min()"
   ]
  },
  {
   "cell_type": "code",
   "execution_count": 8,
   "id": "26efd8c9",
   "metadata": {
    "autoscroll": false,
    "collapsed": false,
    "ein.hycell": false,
    "ein.tags": "worksheet-0",
    "slideshow": {
     "slide_type": "-"
    }
   },
   "outputs": [],
   "source": [
    "codf\n",
    "a = codf['checkouts'].describe() #hist(bins = 100)\n",
    "\n",
    "\n",
    "#codf"
   ]
  },
  {
   "cell_type": "code",
   "execution_count": 12,
   "id": "df257780",
   "metadata": {
    "autoscroll": false,
    "collapsed": false,
    "ein.hycell": false,
    "ein.tags": "worksheet-0",
    "slideshow": {
     "slide_type": "-"
    }
   },
   "outputs": [
    {
     "data": {
      "text/html": [
       "<div>\n<style scoped>\n    .dataframe tbody tr th:only-of-type {\n        vertical-align: middle;\n    }\n\n    .dataframe tbody tr th {\n        vertical-align: top;\n    }\n\n    .dataframe thead th {\n        text-align: right;\n    }\n</style>\n<table border=\"1\" class=\"dataframe\">\n  <thead>\n    <tr style=\"text-align: right;\">\n      <th></th>\n      <th>index</th>\n      <th>usageclass</th>\n      <th>checkouttype</th>\n      <th>materialtype</th>\n      <th>checkoutyear</th>\n      <th>checkoutmonth</th>\n      <th>checkouts</th>\n      <th>title</th>\n      <th>isbn</th>\n      <th>creator</th>\n      <th>subjects</th>\n      <th>publisher</th>\n      <th>publicationyear</th>\n      <th>title length</th>\n    </tr>\n  </thead>\n  <tbody>\n    <tr>\n      <th>15</th>\n      <td>3056</td>\n      <td>Digital</td>\n      <td>OverDrive</td>\n      <td>AUDIOBOOK</td>\n      <td>2018</td>\n      <td>1</td>\n      <td>106</td>\n      <td>The Underground Railroad (Oprah's Book Club): ...</td>\n      <td>NaN</td>\n      <td>Colson Whitehead</td>\n      <td>Fiction, Historical Fiction, Literature</td>\n      <td>Books on Tape</td>\n      <td>2016</td>\n      <td>79</td>\n    </tr>\n  </tbody>\n</table>\n</div>"
      ],
      "text/plain": [
       "    index usageclass checkouttype materialtype  checkoutyear  checkoutmonth  \\\n15   3056    Digital    OverDrive    AUDIOBOOK          2018              1   \n\n    checkouts                                              title  isbn  \\\n15        106  The Underground Railroad (Oprah's Book Club): ...   NaN   \n\n             creator                                 subjects      publisher  \\\n15  Colson Whitehead  Fiction, Historical Fiction, Literature  Books on Tape   \n\n   publicationyear  title length  \n15            2016            79  "
      ]
     },
     "execution_count": 12,
     "metadata": {},
     "output_type": "execute_result"
    }
   ],
   "source": [
    "\n",
    "comax = a['mean'] + (a['std']*4)\n",
    "comin = a['mean'] - (a['std']*4)\n",
    "dfNoOutlier = codf.loc[(codf['checkouts'] < comax) & (codf['checkouts'] > comin)]\n",
    "answerQ2 = len(codf) - len(dfNoOutlier)\n",
    "#dfOutlier\n",
    "dfOutlier = codf.loc[(codf['checkouts'] > comax) | (codf['checkouts'] < comin)]\n",
    "\n",
    "titleLen = [len(i.split('/')[0]) for i in dfOutlier['title']]\n",
    "\n",
    "titleLen = pd.DataFrame({'title length' : titleLen})\n",
    "dfOutlier = dfOutlier.reset_index()\n",
    "x = pd.concat([dfOutlier, titleLen], axis = 1)\n",
    "answerQ3 = x.loc[x['title length'] == x['title length'].max()]\n"
   ]
  },
  {
   "cell_type": "markdown",
   "id": "19f06cb6",
   "metadata": {
    "ein.tags": "worksheet-0",
    "slideshow": {
     "slide_type": "-"
    }
   },
   "source": []
  }
 ],
 "metadata": {
  "kernelspec": {
   "argv": [
    "python",
    "-m",
    "ipykernel_launcher",
    "-f",
    "{connection_file}"
   ],
   "display_name": "Python 3 (ipykernel)",
   "env": null,
   "interrupt_mode": "signal",
   "language": "python",
   "metadata": {
    "debugger": true
   },
   "name": "python3"
  },
  "name": "20231219_fdm_ha3.ipynb"
 },
 "nbformat": 4,
 "nbformat_minor": 5
}
