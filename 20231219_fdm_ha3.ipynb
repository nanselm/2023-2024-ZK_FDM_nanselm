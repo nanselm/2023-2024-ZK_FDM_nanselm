{
 "cells": [
  {
   "cell_type": "code",
   "execution_count": null,
   "id": "f0dcedcf",
   "metadata": {
    "autoscroll": false,
    "collapsed": false,
    "ein.hycell": false,
    "ein.tags": "worksheet-0",
    "slideshow": {
     "slide_type": "-"
    }
   },
   "outputs": [],
   "source": [
    "import urllib.request\n",
    "import pandas as pd\n"
   ]
  },
  {
   "cell_type": "markdown",
   "id": "4bcc7c27",
   "metadata": {
    "ein.tags": "worksheet-0",
    "slideshow": {
     "slide_type": "-"
    }
   },
   "source": [
    "# Aufgabe 3\n",
    "\n",
    "## Merging\n",
    "\n",
    "Führe einen \"right\", \"inner\" und einen \"outer\" Merge durch und schaue Dir die Ergebnisse dieser an.\n",
    "\n",
    "- [ ] right\n",
    "- [ ] inner\n",
    "- [ ] outer"
   ]
  },
  {
   "cell_type": "code",
   "execution_count": 2,
   "id": "28413c99",
   "metadata": {
    "autoscroll": false,
    "collapsed": false,
    "ein.hycell": false,
    "ein.tags": "worksheet-0",
    "slideshow": {
     "slide_type": "-"
    }
   },
   "outputs": [],
   "source": [
    "\n",
    "\n",
    "\n",
    "doi_df_journal = pd.DataFrame({\n",
    "    \"DOI\": [\"10.1371/journal.pcbi.1004668\",\n",
    "            \"10.21105/joss.01035\",\n",
    "            \"10.12688/f1000research.18866.2\",\n",
    "            \"10.1038/s41598-019-52881-4\",\n",
    "            \"10.1186/s12859-019-3171-0\"],\n",
    "    \"journal\": [\"PLoS Comput Biol\",\n",
    "                \"JOSS\",\n",
    "                \"F1000Res\",\n",
    "                \"Sci Rep\",\n",
    "                \"BMC Bioinformatics\"]\n",
    "})\n",
    "\n",
    "doi_df_first_author = pd.DataFrame({\n",
    "    \"DOI\": [\"10.1371/journal.pcbi.1004668\",\n",
    "            \"10.21105/joss.01035\",\n",
    "            \"10.21105/joss.01006\",\n",
    "            \"10.12688/f1000research.18866.2\",\n",
    "            \"10.1186/s12859-019-3171-0\"],\n",
    "    \"first_author\": [\"Blischak\",\n",
    "                     \"Sparks\",\n",
    "                     \"Granger\",\n",
    "                     \"Thang\",\n",
    "                     \"Chen\"]\n",
    "})\n",
    "\n",
    "\n",
    "\n",
    "\n",
    "\n",
    "\n"
   ]
  },
  {
   "cell_type": "markdown",
   "id": "755638ef",
   "metadata": {
    "ein.tags": "worksheet-0",
    "slideshow": {
     "slide_type": "-"
    }
   },
   "source": [
    "## Seattle Library\n",
    "\n",
    "Erstellt ein neues Jupyter Notebook und überlegt euch für die Aufgabe **drei** Fragen, die ihr mittels einer Analyse mit Pandas auf die Daten anwenden könnt. Visualisiert eure Analysen durch tabellarische Form oder ein Histogramm.\n",
    "\n",
    "- [ ] neues Jupy\n",
    "- [ ] 1. Frage:\n",
    "- [ ] 2. Frage:\n",
    "- [ ] 3. Frage:\n"
   ]
  },
  {
   "cell_type": "code",
   "execution_count": null,
   "id": "c1b5d2bc",
   "metadata": {
    "autoscroll": false,
    "collapsed": false,
    "ein.hycell": false,
    "ein.tags": "worksheet-0",
    "slideshow": {
     "slide_type": "-"
    }
   },
   "outputs": [],
   "source": [
    "url = \"https://data.seattle.gov/resource/tmmm-ytt6.csv?$where=checkoutyear=2018&$limit=10000\"\n",
    "co = \"checkout.csv\"\n",
    "urllib.request.urlretrieve(url, co)\n",
    "checkouts_df = pd.read_csv(co)\n"
   ]
  }
 ],
 "metadata": {
  "kernelspec": {
   "argv": [
    "python",
    "-m",
    "ipykernel_launcher",
    "-f",
    "{connection_file}"
   ],
   "display_name": "Python 3 (ipykernel)",
   "env": null,
   "interrupt_mode": "signal",
   "language": "python",
   "metadata": {
    "debugger": true
   },
   "name": "python3"
  },
  "name": "20231219_fdm_ha3.ipynb"
 },
 "nbformat": 4,
 "nbformat_minor": 5
}
